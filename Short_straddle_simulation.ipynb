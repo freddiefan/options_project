{
 "cells": [
  {
   "cell_type": "code",
   "execution_count": 181,
   "metadata": {},
   "outputs": [
    {
     "data": {
      "text/html": [
       "\n",
       "    <div class=\"bk-root\">\n",
       "        <a href=\"https://bokeh.org\" target=\"_blank\" class=\"bk-logo bk-logo-small bk-logo-notebook\"></a>\n",
       "        <span id=\"9786\">Loading BokehJS ...</span>\n",
       "    </div>"
      ]
     },
     "metadata": {},
     "output_type": "display_data"
    },
    {
     "data": {
      "application/javascript": [
       "\n",
       "(function(root) {\n",
       "  function now() {\n",
       "    return new Date();\n",
       "  }\n",
       "\n",
       "  var force = true;\n",
       "\n",
       "  if (typeof root._bokeh_onload_callbacks === \"undefined\" || force === true) {\n",
       "    root._bokeh_onload_callbacks = [];\n",
       "    root._bokeh_is_loading = undefined;\n",
       "  }\n",
       "\n",
       "  var JS_MIME_TYPE = 'application/javascript';\n",
       "  var HTML_MIME_TYPE = 'text/html';\n",
       "  var EXEC_MIME_TYPE = 'application/vnd.bokehjs_exec.v0+json';\n",
       "  var CLASS_NAME = 'output_bokeh rendered_html';\n",
       "\n",
       "  /**\n",
       "   * Render data to the DOM node\n",
       "   */\n",
       "  function render(props, node) {\n",
       "    var script = document.createElement(\"script\");\n",
       "    node.appendChild(script);\n",
       "  }\n",
       "\n",
       "  /**\n",
       "   * Handle when an output is cleared or removed\n",
       "   */\n",
       "  function handleClearOutput(event, handle) {\n",
       "    var cell = handle.cell;\n",
       "\n",
       "    var id = cell.output_area._bokeh_element_id;\n",
       "    var server_id = cell.output_area._bokeh_server_id;\n",
       "    // Clean up Bokeh references\n",
       "    if (id != null && id in Bokeh.index) {\n",
       "      Bokeh.index[id].model.document.clear();\n",
       "      delete Bokeh.index[id];\n",
       "    }\n",
       "\n",
       "    if (server_id !== undefined) {\n",
       "      // Clean up Bokeh references\n",
       "      var cmd = \"from bokeh.io.state import curstate; print(curstate().uuid_to_server['\" + server_id + \"'].get_sessions()[0].document.roots[0]._id)\";\n",
       "      cell.notebook.kernel.execute(cmd, {\n",
       "        iopub: {\n",
       "          output: function(msg) {\n",
       "            var id = msg.content.text.trim();\n",
       "            if (id in Bokeh.index) {\n",
       "              Bokeh.index[id].model.document.clear();\n",
       "              delete Bokeh.index[id];\n",
       "            }\n",
       "          }\n",
       "        }\n",
       "      });\n",
       "      // Destroy server and session\n",
       "      var cmd = \"import bokeh.io.notebook as ion; ion.destroy_server('\" + server_id + \"')\";\n",
       "      cell.notebook.kernel.execute(cmd);\n",
       "    }\n",
       "  }\n",
       "\n",
       "  /**\n",
       "   * Handle when a new output is added\n",
       "   */\n",
       "  function handleAddOutput(event, handle) {\n",
       "    var output_area = handle.output_area;\n",
       "    var output = handle.output;\n",
       "\n",
       "    // limit handleAddOutput to display_data with EXEC_MIME_TYPE content only\n",
       "    if ((output.output_type != \"display_data\") || (!output.data.hasOwnProperty(EXEC_MIME_TYPE))) {\n",
       "      return\n",
       "    }\n",
       "\n",
       "    var toinsert = output_area.element.find(\".\" + CLASS_NAME.split(' ')[0]);\n",
       "\n",
       "    if (output.metadata[EXEC_MIME_TYPE][\"id\"] !== undefined) {\n",
       "      toinsert[toinsert.length - 1].firstChild.textContent = output.data[JS_MIME_TYPE];\n",
       "      // store reference to embed id on output_area\n",
       "      output_area._bokeh_element_id = output.metadata[EXEC_MIME_TYPE][\"id\"];\n",
       "    }\n",
       "    if (output.metadata[EXEC_MIME_TYPE][\"server_id\"] !== undefined) {\n",
       "      var bk_div = document.createElement(\"div\");\n",
       "      bk_div.innerHTML = output.data[HTML_MIME_TYPE];\n",
       "      var script_attrs = bk_div.children[0].attributes;\n",
       "      for (var i = 0; i < script_attrs.length; i++) {\n",
       "        toinsert[toinsert.length - 1].firstChild.setAttribute(script_attrs[i].name, script_attrs[i].value);\n",
       "      }\n",
       "      // store reference to server id on output_area\n",
       "      output_area._bokeh_server_id = output.metadata[EXEC_MIME_TYPE][\"server_id\"];\n",
       "    }\n",
       "  }\n",
       "\n",
       "  function register_renderer(events, OutputArea) {\n",
       "\n",
       "    function append_mime(data, metadata, element) {\n",
       "      // create a DOM node to render to\n",
       "      var toinsert = this.create_output_subarea(\n",
       "        metadata,\n",
       "        CLASS_NAME,\n",
       "        EXEC_MIME_TYPE\n",
       "      );\n",
       "      this.keyboard_manager.register_events(toinsert);\n",
       "      // Render to node\n",
       "      var props = {data: data, metadata: metadata[EXEC_MIME_TYPE]};\n",
       "      render(props, toinsert[toinsert.length - 1]);\n",
       "      element.append(toinsert);\n",
       "      return toinsert\n",
       "    }\n",
       "\n",
       "    /* Handle when an output is cleared or removed */\n",
       "    events.on('clear_output.CodeCell', handleClearOutput);\n",
       "    events.on('delete.Cell', handleClearOutput);\n",
       "\n",
       "    /* Handle when a new output is added */\n",
       "    events.on('output_added.OutputArea', handleAddOutput);\n",
       "\n",
       "    /**\n",
       "     * Register the mime type and append_mime function with output_area\n",
       "     */\n",
       "    OutputArea.prototype.register_mime_type(EXEC_MIME_TYPE, append_mime, {\n",
       "      /* Is output safe? */\n",
       "      safe: true,\n",
       "      /* Index of renderer in `output_area.display_order` */\n",
       "      index: 0\n",
       "    });\n",
       "  }\n",
       "\n",
       "  // register the mime type if in Jupyter Notebook environment and previously unregistered\n",
       "  if (root.Jupyter !== undefined) {\n",
       "    var events = require('base/js/events');\n",
       "    var OutputArea = require('notebook/js/outputarea').OutputArea;\n",
       "\n",
       "    if (OutputArea.prototype.mime_types().indexOf(EXEC_MIME_TYPE) == -1) {\n",
       "      register_renderer(events, OutputArea);\n",
       "    }\n",
       "  }\n",
       "\n",
       "  \n",
       "  if (typeof (root._bokeh_timeout) === \"undefined\" || force === true) {\n",
       "    root._bokeh_timeout = Date.now() + 5000;\n",
       "    root._bokeh_failed_load = false;\n",
       "  }\n",
       "\n",
       "  var NB_LOAD_WARNING = {'data': {'text/html':\n",
       "     \"<div style='background-color: #fdd'>\\n\"+\n",
       "     \"<p>\\n\"+\n",
       "     \"BokehJS does not appear to have successfully loaded. If loading BokehJS from CDN, this \\n\"+\n",
       "     \"may be due to a slow or bad network connection. Possible fixes:\\n\"+\n",
       "     \"</p>\\n\"+\n",
       "     \"<ul>\\n\"+\n",
       "     \"<li>re-rerun `output_notebook()` to attempt to load from CDN again, or</li>\\n\"+\n",
       "     \"<li>use INLINE resources instead, as so:</li>\\n\"+\n",
       "     \"</ul>\\n\"+\n",
       "     \"<code>\\n\"+\n",
       "     \"from bokeh.resources import INLINE\\n\"+\n",
       "     \"output_notebook(resources=INLINE)\\n\"+\n",
       "     \"</code>\\n\"+\n",
       "     \"</div>\"}};\n",
       "\n",
       "  function display_loaded() {\n",
       "    var el = document.getElementById(\"9786\");\n",
       "    if (el != null) {\n",
       "      el.textContent = \"BokehJS is loading...\";\n",
       "    }\n",
       "    if (root.Bokeh !== undefined) {\n",
       "      if (el != null) {\n",
       "        el.textContent = \"BokehJS \" + root.Bokeh.version + \" successfully loaded.\";\n",
       "      }\n",
       "    } else if (Date.now() < root._bokeh_timeout) {\n",
       "      setTimeout(display_loaded, 100)\n",
       "    }\n",
       "  }\n",
       "\n",
       "\n",
       "  function run_callbacks() {\n",
       "    try {\n",
       "      root._bokeh_onload_callbacks.forEach(function(callback) {\n",
       "        if (callback != null)\n",
       "          callback();\n",
       "      });\n",
       "    } finally {\n",
       "      delete root._bokeh_onload_callbacks\n",
       "    }\n",
       "    console.debug(\"Bokeh: all callbacks have finished\");\n",
       "  }\n",
       "\n",
       "  function load_libs(css_urls, js_urls, callback) {\n",
       "    if (css_urls == null) css_urls = [];\n",
       "    if (js_urls == null) js_urls = [];\n",
       "\n",
       "    root._bokeh_onload_callbacks.push(callback);\n",
       "    if (root._bokeh_is_loading > 0) {\n",
       "      console.debug(\"Bokeh: BokehJS is being loaded, scheduling callback at\", now());\n",
       "      return null;\n",
       "    }\n",
       "    if (js_urls == null || js_urls.length === 0) {\n",
       "      run_callbacks();\n",
       "      return null;\n",
       "    }\n",
       "    console.debug(\"Bokeh: BokehJS not loaded, scheduling load and callback at\", now());\n",
       "    root._bokeh_is_loading = css_urls.length + js_urls.length;\n",
       "\n",
       "    function on_load() {\n",
       "      root._bokeh_is_loading--;\n",
       "      if (root._bokeh_is_loading === 0) {\n",
       "        console.debug(\"Bokeh: all BokehJS libraries/stylesheets loaded\");\n",
       "        run_callbacks()\n",
       "      }\n",
       "    }\n",
       "\n",
       "    function on_error() {\n",
       "      console.error(\"failed to load \" + url);\n",
       "    }\n",
       "\n",
       "    for (var i = 0; i < css_urls.length; i++) {\n",
       "      var url = css_urls[i];\n",
       "      const element = document.createElement(\"link\");\n",
       "      element.onload = on_load;\n",
       "      element.onerror = on_error;\n",
       "      element.rel = \"stylesheet\";\n",
       "      element.type = \"text/css\";\n",
       "      element.href = url;\n",
       "      console.debug(\"Bokeh: injecting link tag for BokehJS stylesheet: \", url);\n",
       "      document.body.appendChild(element);\n",
       "    }\n",
       "\n",
       "    for (var i = 0; i < js_urls.length; i++) {\n",
       "      var url = js_urls[i];\n",
       "      var element = document.createElement('script');\n",
       "      element.onload = on_load;\n",
       "      element.onerror = on_error;\n",
       "      element.async = false;\n",
       "      element.src = url;\n",
       "      console.debug(\"Bokeh: injecting script tag for BokehJS library: \", url);\n",
       "      document.head.appendChild(element);\n",
       "    }\n",
       "  };var element = document.getElementById(\"9786\");\n",
       "  if (element == null) {\n",
       "    console.error(\"Bokeh: ERROR: autoload.js configured with elementid '9786' but no matching script tag was found. \")\n",
       "    return false;\n",
       "  }\n",
       "\n",
       "  function inject_raw_css(css) {\n",
       "    const element = document.createElement(\"style\");\n",
       "    element.appendChild(document.createTextNode(css));\n",
       "    document.body.appendChild(element);\n",
       "  }\n",
       "\n",
       "  \n",
       "  var js_urls = [\"https://cdn.pydata.org/bokeh/release/bokeh-1.4.0.min.js\", \"https://cdn.pydata.org/bokeh/release/bokeh-widgets-1.4.0.min.js\", \"https://cdn.pydata.org/bokeh/release/bokeh-tables-1.4.0.min.js\", \"https://cdn.pydata.org/bokeh/release/bokeh-gl-1.4.0.min.js\"];\n",
       "  var css_urls = [];\n",
       "  \n",
       "\n",
       "  var inline_js = [\n",
       "    function(Bokeh) {\n",
       "      Bokeh.set_log_level(\"info\");\n",
       "    },\n",
       "    function(Bokeh) {\n",
       "    \n",
       "    \n",
       "    }\n",
       "  ];\n",
       "\n",
       "  function run_inline_js() {\n",
       "    \n",
       "    if (root.Bokeh !== undefined || force === true) {\n",
       "      \n",
       "    for (var i = 0; i < inline_js.length; i++) {\n",
       "      inline_js[i].call(root, root.Bokeh);\n",
       "    }\n",
       "    if (force === true) {\n",
       "        display_loaded();\n",
       "      }} else if (Date.now() < root._bokeh_timeout) {\n",
       "      setTimeout(run_inline_js, 100);\n",
       "    } else if (!root._bokeh_failed_load) {\n",
       "      console.log(\"Bokeh: BokehJS failed to load within specified timeout.\");\n",
       "      root._bokeh_failed_load = true;\n",
       "    } else if (force !== true) {\n",
       "      var cell = $(document.getElementById(\"9786\")).parents('.cell').data().cell;\n",
       "      cell.output_area.append_execute_result(NB_LOAD_WARNING)\n",
       "    }\n",
       "\n",
       "  }\n",
       "\n",
       "  if (root._bokeh_is_loading === 0) {\n",
       "    console.debug(\"Bokeh: BokehJS loaded, going straight to plotting\");\n",
       "    run_inline_js();\n",
       "  } else {\n",
       "    load_libs(css_urls, js_urls, function() {\n",
       "      console.debug(\"Bokeh: BokehJS plotting callback run at\", now());\n",
       "      run_inline_js();\n",
       "    });\n",
       "  }\n",
       "}(window));"
      ],
      "application/vnd.bokehjs_load.v0+json": "\n(function(root) {\n  function now() {\n    return new Date();\n  }\n\n  var force = true;\n\n  if (typeof root._bokeh_onload_callbacks === \"undefined\" || force === true) {\n    root._bokeh_onload_callbacks = [];\n    root._bokeh_is_loading = undefined;\n  }\n\n  \n\n  \n  if (typeof (root._bokeh_timeout) === \"undefined\" || force === true) {\n    root._bokeh_timeout = Date.now() + 5000;\n    root._bokeh_failed_load = false;\n  }\n\n  var NB_LOAD_WARNING = {'data': {'text/html':\n     \"<div style='background-color: #fdd'>\\n\"+\n     \"<p>\\n\"+\n     \"BokehJS does not appear to have successfully loaded. If loading BokehJS from CDN, this \\n\"+\n     \"may be due to a slow or bad network connection. Possible fixes:\\n\"+\n     \"</p>\\n\"+\n     \"<ul>\\n\"+\n     \"<li>re-rerun `output_notebook()` to attempt to load from CDN again, or</li>\\n\"+\n     \"<li>use INLINE resources instead, as so:</li>\\n\"+\n     \"</ul>\\n\"+\n     \"<code>\\n\"+\n     \"from bokeh.resources import INLINE\\n\"+\n     \"output_notebook(resources=INLINE)\\n\"+\n     \"</code>\\n\"+\n     \"</div>\"}};\n\n  function display_loaded() {\n    var el = document.getElementById(\"9786\");\n    if (el != null) {\n      el.textContent = \"BokehJS is loading...\";\n    }\n    if (root.Bokeh !== undefined) {\n      if (el != null) {\n        el.textContent = \"BokehJS \" + root.Bokeh.version + \" successfully loaded.\";\n      }\n    } else if (Date.now() < root._bokeh_timeout) {\n      setTimeout(display_loaded, 100)\n    }\n  }\n\n\n  function run_callbacks() {\n    try {\n      root._bokeh_onload_callbacks.forEach(function(callback) {\n        if (callback != null)\n          callback();\n      });\n    } finally {\n      delete root._bokeh_onload_callbacks\n    }\n    console.debug(\"Bokeh: all callbacks have finished\");\n  }\n\n  function load_libs(css_urls, js_urls, callback) {\n    if (css_urls == null) css_urls = [];\n    if (js_urls == null) js_urls = [];\n\n    root._bokeh_onload_callbacks.push(callback);\n    if (root._bokeh_is_loading > 0) {\n      console.debug(\"Bokeh: BokehJS is being loaded, scheduling callback at\", now());\n      return null;\n    }\n    if (js_urls == null || js_urls.length === 0) {\n      run_callbacks();\n      return null;\n    }\n    console.debug(\"Bokeh: BokehJS not loaded, scheduling load and callback at\", now());\n    root._bokeh_is_loading = css_urls.length + js_urls.length;\n\n    function on_load() {\n      root._bokeh_is_loading--;\n      if (root._bokeh_is_loading === 0) {\n        console.debug(\"Bokeh: all BokehJS libraries/stylesheets loaded\");\n        run_callbacks()\n      }\n    }\n\n    function on_error() {\n      console.error(\"failed to load \" + url);\n    }\n\n    for (var i = 0; i < css_urls.length; i++) {\n      var url = css_urls[i];\n      const element = document.createElement(\"link\");\n      element.onload = on_load;\n      element.onerror = on_error;\n      element.rel = \"stylesheet\";\n      element.type = \"text/css\";\n      element.href = url;\n      console.debug(\"Bokeh: injecting link tag for BokehJS stylesheet: \", url);\n      document.body.appendChild(element);\n    }\n\n    for (var i = 0; i < js_urls.length; i++) {\n      var url = js_urls[i];\n      var element = document.createElement('script');\n      element.onload = on_load;\n      element.onerror = on_error;\n      element.async = false;\n      element.src = url;\n      console.debug(\"Bokeh: injecting script tag for BokehJS library: \", url);\n      document.head.appendChild(element);\n    }\n  };var element = document.getElementById(\"9786\");\n  if (element == null) {\n    console.error(\"Bokeh: ERROR: autoload.js configured with elementid '9786' but no matching script tag was found. \")\n    return false;\n  }\n\n  function inject_raw_css(css) {\n    const element = document.createElement(\"style\");\n    element.appendChild(document.createTextNode(css));\n    document.body.appendChild(element);\n  }\n\n  \n  var js_urls = [\"https://cdn.pydata.org/bokeh/release/bokeh-1.4.0.min.js\", \"https://cdn.pydata.org/bokeh/release/bokeh-widgets-1.4.0.min.js\", \"https://cdn.pydata.org/bokeh/release/bokeh-tables-1.4.0.min.js\", \"https://cdn.pydata.org/bokeh/release/bokeh-gl-1.4.0.min.js\"];\n  var css_urls = [];\n  \n\n  var inline_js = [\n    function(Bokeh) {\n      Bokeh.set_log_level(\"info\");\n    },\n    function(Bokeh) {\n    \n    \n    }\n  ];\n\n  function run_inline_js() {\n    \n    if (root.Bokeh !== undefined || force === true) {\n      \n    for (var i = 0; i < inline_js.length; i++) {\n      inline_js[i].call(root, root.Bokeh);\n    }\n    if (force === true) {\n        display_loaded();\n      }} else if (Date.now() < root._bokeh_timeout) {\n      setTimeout(run_inline_js, 100);\n    } else if (!root._bokeh_failed_load) {\n      console.log(\"Bokeh: BokehJS failed to load within specified timeout.\");\n      root._bokeh_failed_load = true;\n    } else if (force !== true) {\n      var cell = $(document.getElementById(\"9786\")).parents('.cell').data().cell;\n      cell.output_area.append_execute_result(NB_LOAD_WARNING)\n    }\n\n  }\n\n  if (root._bokeh_is_loading === 0) {\n    console.debug(\"Bokeh: BokehJS loaded, going straight to plotting\");\n    run_inline_js();\n  } else {\n    load_libs(css_urls, js_urls, function() {\n      console.debug(\"Bokeh: BokehJS plotting callback run at\", now());\n      run_inline_js();\n    });\n  }\n}(window));"
     },
     "metadata": {},
     "output_type": "display_data"
    }
   ],
   "source": [
    "from IPython.display import display, clear_output\n",
    "import bokeh\n",
    "import mibian\n",
    "import numpy as np\n",
    "import pandas as pd\n",
    "import random\n",
    "from tqdm.notebook import tqdm\n",
    "import scipy\n",
    "import math\n",
    "from scipy import stats\n",
    "from bokeh.plotting import figure\n",
    "from bokeh.io import show, output_notebook, push_notebook\n",
    "import ipywidgets as widgets\n",
    "from ipywidgets import FloatSlider\n",
    "output_notebook()"
   ]
  },
  {
   "cell_type": "code",
   "execution_count": 150,
   "metadata": {},
   "outputs": [],
   "source": [
    "def simulation(b):\n",
    "    year_day_count = 250\n",
    "    num_interval = year_day_count\n",
    "    num_sample = 1000\n",
    "\n",
    "    iv = 0.30\n",
    "    rv = 0.28\n",
    "    stock_initial_price = 100.0\n",
    "\n",
    "    # Initial Straddle Cost\n",
    "    # Mibian package usage: BS([underlyingPrice, strikePrice, interestRate, daysToExpiration], volatility=x)\n",
    "    option = mibian.BS([stock_initial_price, stock_initial_price, 0, year_day_count * 365/250], volatility=iv*100)\n",
    "    straddle_price = option.callPrice + option.putPrice\n",
    "\n",
    "    #Simulation\n",
    "    profit_list = np.zeros(num_sample)\n",
    "    price_path_list = []\n",
    "    # Simulate flat Dirichlet Distribution random numbers bewteen 0 and 1 such that they sum up to 1\n",
    "    dirichlet_random_num = np.random.dirichlet(alpha=((0.01),) * num_interval, size=num_sample)\n",
    "    print('Simulating Number of Path = {}'.format(num_sample))\n",
    "    for i, variance_path in (enumerate(tqdm(dirichlet_random_num))):\n",
    "        # Assign daily return path (unsigned) to match total variance corresponding to 28% realized vol\n",
    "        return_path = np.sqrt(variance_path * (rv ** 2))\n",
    "        # Randomly assign Positive or Negative return each day\n",
    "        sign_path = random.choices(population=[-1, 1], k=num_interval)\n",
    "        return_path = np.append(np.array([0]), return_path * sign_path)\n",
    "        # Get stock price path from cumulative return products\n",
    "        price_path = stock_initial_price * np.cumprod(1 + return_path)\n",
    "        stock_ending_price = price_path[-1]\n",
    "        option_object_list = [mibian.BS([stock_price, stock_initial_price, 0, (year_day_count-d) * 365/250], volatility=iv*100) if year_day_count-d != 0 else None for d, stock_price in enumerate(price_path)]\n",
    "        # Calculate Delta each day\n",
    "        delta_list = np.array([-(option_object.callDelta + option_object.putDelta) if option_object is not None else 0 for option_object in option_object_list])\n",
    "        # Calculate Delta trade qty each day\n",
    "        delta_trade_list = -np.append(delta_list[0:1], np.diff(delta_list))\n",
    "        price_path_list.append(price_path)\n",
    "        # Final profit calculation = Straddle Price - drift away from ATM + all delta hedging pnl\n",
    "        profit = straddle_price - abs(stock_initial_price - stock_ending_price) + np.sum((stock_ending_price - price_path) * delta_trade_list)\n",
    "        profit_list[i] = profit\n",
    "    print('Percentage of time (PnL < 0): {0:.2f}%'.format(len(profit_list[profit_list < 0]) / len(profit_list) * 100))\n",
    "    print('Average PnL: {0:.2f}'.format(np.mean(profit_list)))\n",
    "    print('Median PnL: {0:.2f}'.format(np.median(profit_list)))\n",
    "    print('Highest PnL: {0:.2f}'.format(np.max(profit_list)))\n",
    "    print('Lowest PnL: {0:.2f}'.format(np.min(profit_list)))\n",
    "    print('Select Path to display based on PnL Percentile')\n",
    "    percentile_slider = widgets.IntSlider(\n",
    "        value=50,\n",
    "        min=0,\n",
    "        max=100,\n",
    "        step=1,\n",
    "        description='Percentile',\n",
    "        disabled=False,\n",
    "        continuous_update=False,\n",
    "        orientation='horizontal',\n",
    "        readout=True,\n",
    "        readout_format='d',\n",
    "    )\n",
    "    display(percentile_slider)\n",
    "    def on_value_change(value):\n",
    "        percentile = value['new']\n",
    "        i_near = abs(profit_list-np.percentile(profit_list, percentile, interpolation='nearest')).argmin()\n",
    "        price_path = price_path_list[i_near]\n",
    "\n",
    "        p = figure(plot_width = 800, plot_height = 300, title = 'Simulated Stock Price Path corresponding to {}% PnL percentile'.format(percentile), \n",
    "                   x_axis_label = 'Days to Expiry', y_axis_label = 'Stock Price', id='stock_price_path')\n",
    "\n",
    "        p.line(x=range(year_day_count+1)[::-1], y=price_path, color='red', legend_label='Ending PnL = {}'.format(profit_list[i_near].round(2)))\n",
    "        p.x_range.flipped = True\n",
    "        \n",
    "        h = show(p, notebook_handle=True)\n",
    "        push_notebook(h)\n",
    "\n",
    "    percentile_slider.observe(on_value_change, names='value')"
   ]
  },
  {
   "cell_type": "code",
   "execution_count": 201,
   "metadata": {},
   "outputs": [
    {
     "data": {
      "text/plain": [
       "0.08062530983764232"
      ]
     },
     "execution_count": 201,
     "metadata": {},
     "output_type": "execute_result"
    }
   ],
   "source": [
    "SPY_price = pd.read_csv('SPY.csv')['Adj Close']\n",
    "SPY_return = np.diff(np.log(SPY_price))\n",
    "SPY_vol = np.sqrt((SPY_return ** 2) * 250)\n",
    "np.std(SPY_vol)"
   ]
  },
  {
   "cell_type": "code",
   "execution_count": 177,
   "metadata": {},
   "outputs": [
    {
     "name": "stdout",
     "output_type": "stream",
     "text": [
      "0.2750887066266743\n"
     ]
    }
   ],
   "source": [
    "variance_path = np.random.dirichlet(alpha=((0.01),) * num_interval, size=num_sample)\n",
    "return_path = np.sqrt(variance_path * (rv ** 2))\n",
    "print(np.std(np.sqrt((return_path**2) * 250)))"
   ]
  },
  {
   "cell_type": "code",
   "execution_count": 205,
   "metadata": {},
   "outputs": [
    {
     "name": "stdout",
     "output_type": "stream",
     "text": [
      "0.1290137025876481\n"
     ]
    }
   ],
   "source": [
    "variance_path = np.random.dirichlet(alpha=((1),) * num_interval, size=num_sample)\n",
    "return_path = np.sqrt(variance_path * (rv ** 2))\n",
    "print(np.std(np.sqrt((return_path**2) * 250)))"
   ]
  },
  {
   "cell_type": "code",
   "execution_count": 198,
   "metadata": {},
   "outputs": [
    {
     "name": "stdout",
     "output_type": "stream",
     "text": [
      "0.07825980811896886\n"
     ]
    }
   ],
   "source": [
    "variance_path = np.random.dirichlet(alpha=((3),) * num_interval, size=num_sample)\n",
    "return_path = np.sqrt(variance_path * (rv ** 2))\n",
    "print(np.std(np.sqrt((return_path**2) * 250)))"
   ]
  },
  {
   "cell_type": "code",
   "execution_count": 179,
   "metadata": {},
   "outputs": [
    {
     "name": "stdout",
     "output_type": "stream",
     "text": [
      "0.013838316192845312\n"
     ]
    }
   ],
   "source": [
    "variance_path = np.random.dirichlet(alpha=((100),) * num_interval, size=num_sample)\n",
    "return_path = np.sqrt(variance_path * (rv ** 2))\n",
    "print(np.std(np.sqrt((return_path**2) * 250)))"
   ]
  },
  {
   "cell_type": "code",
   "execution_count": 151,
   "metadata": {
    "scrolled": false
   },
   "outputs": [
    {
     "data": {
      "application/vnd.jupyter.widget-view+json": {
       "model_id": "bb021344cb334516a34e6573aa9b47fb",
       "version_major": 2,
       "version_minor": 0
      },
      "text/plain": [
       "Button(button_style='success', description='Run Simulations', style=ButtonStyle())"
      ]
     },
     "metadata": {},
     "output_type": "display_data"
    },
    {
     "name": "stdout",
     "output_type": "stream",
     "text": [
      "Simulating Number of Path = 1000\n"
     ]
    },
    {
     "data": {
      "application/vnd.jupyter.widget-view+json": {
       "model_id": "fbafd58071d44b6fbe5f312a622e4373",
       "version_major": 2,
       "version_minor": 0
      },
      "text/plain": [
       "HBox(children=(FloatProgress(value=0.0, max=1000.0), HTML(value='')))"
      ]
     },
     "metadata": {},
     "output_type": "display_data"
    },
    {
     "name": "stdout",
     "output_type": "stream",
     "text": [
      "\n",
      "Percentage of time (PnL < 0): 40.60%\n",
      "Average PnL: 0.65\n",
      "Median PnL: 0.61\n",
      "Highest PnL: 10.82\n",
      "Lowest PnL: -22.54\n",
      "Select Path to display based on PnL Percentile\n"
     ]
    },
    {
     "data": {
      "application/vnd.jupyter.widget-view+json": {
       "model_id": "cbbc36677be544e3a43ca6a7a2b069cf",
       "version_major": 2,
       "version_minor": 0
      },
      "text/plain": [
       "IntSlider(value=50, continuous_update=False, description='Percentile')"
      ]
     },
     "metadata": {},
     "output_type": "display_data"
    },
    {
     "data": {
      "text/html": [
       "\n",
       "\n",
       "\n",
       "\n",
       "\n",
       "\n",
       "  <div class=\"bk-root\" id=\"b39085c0-fc04-4298-bf1a-cc2499f38cf8\" data-root-id=\"stock_price_path\"></div>\n"
      ]
     },
     "metadata": {},
     "output_type": "display_data"
    },
    {
     "data": {
      "application/javascript": [
       "(function(root) {\n",
       "  function embed_document(root) {\n",
       "    \n",
       "  var docs_json = {\"1b91096b-88ac-4013-abc2-95c45552946a\":{\"roots\":{\"references\":[{\"attributes\":{\"below\":[{\"id\":\"8669\",\"type\":\"LinearAxis\"}],\"center\":[{\"id\":\"8673\",\"type\":\"Grid\"},{\"id\":\"8678\",\"type\":\"Grid\"},{\"id\":\"8703\",\"type\":\"Legend\"}],\"left\":[{\"id\":\"8674\",\"type\":\"LinearAxis\"}],\"plot_height\":300,\"plot_width\":800,\"renderers\":[{\"id\":\"8695\",\"type\":\"GlyphRenderer\"}],\"title\":{\"id\":\"8659\",\"type\":\"Title\"},\"toolbar\":{\"id\":\"8685\",\"type\":\"Toolbar\"},\"x_range\":{\"id\":\"8661\",\"type\":\"DataRange1d\"},\"x_scale\":{\"id\":\"8665\",\"type\":\"LinearScale\"},\"y_range\":{\"id\":\"8663\",\"type\":\"DataRange1d\"},\"y_scale\":{\"id\":\"8667\",\"type\":\"LinearScale\"}},\"id\":\"stock_price_path\",\"subtype\":\"Figure\",\"type\":\"Plot\"},{\"attributes\":{},\"id\":\"8670\",\"type\":\"BasicTicker\"},{\"attributes\":{},\"id\":\"8665\",\"type\":\"LinearScale\"},{\"attributes\":{},\"id\":\"8680\",\"type\":\"WheelZoomTool\"},{\"attributes\":{\"label\":{\"value\":\"Ending PnL = -22.54\"},\"renderers\":[{\"id\":\"8695\",\"type\":\"GlyphRenderer\"}]},\"id\":\"8704\",\"type\":\"LegendItem\"},{\"attributes\":{\"data_source\":{\"id\":\"8692\",\"type\":\"ColumnDataSource\"},\"glyph\":{\"id\":\"8693\",\"type\":\"Line\"},\"hover_glyph\":null,\"muted_glyph\":null,\"nonselection_glyph\":{\"id\":\"8694\",\"type\":\"Line\"},\"selection_glyph\":null,\"view\":{\"id\":\"8696\",\"type\":\"CDSView\"}},\"id\":\"8695\",\"type\":\"GlyphRenderer\"},{\"attributes\":{\"text\":\"Simulated Stock Price Path corresponding to 0% PnL percentile\"},\"id\":\"8659\",\"type\":\"Title\"},{\"attributes\":{},\"id\":\"8667\",\"type\":\"LinearScale\"},{\"attributes\":{\"active_drag\":\"auto\",\"active_inspect\":\"auto\",\"active_multi\":null,\"active_scroll\":\"auto\",\"active_tap\":\"auto\",\"tools\":[{\"id\":\"8679\",\"type\":\"PanTool\"},{\"id\":\"8680\",\"type\":\"WheelZoomTool\"},{\"id\":\"8681\",\"type\":\"BoxZoomTool\"},{\"id\":\"8682\",\"type\":\"SaveTool\"},{\"id\":\"8683\",\"type\":\"ResetTool\"},{\"id\":\"8684\",\"type\":\"HelpTool\"}]},\"id\":\"8685\",\"type\":\"Toolbar\"},{\"attributes\":{\"line_alpha\":0.1,\"line_color\":\"#1f77b4\",\"x\":{\"field\":\"x\"},\"y\":{\"field\":\"y\"}},\"id\":\"8694\",\"type\":\"Line\"},{\"attributes\":{\"items\":[{\"id\":\"8704\",\"type\":\"LegendItem\"}]},\"id\":\"8703\",\"type\":\"Legend\"},{\"attributes\":{},\"id\":\"8974\",\"type\":\"UnionRenderers\"},{\"attributes\":{},\"id\":\"8699\",\"type\":\"BasicTickFormatter\"},{\"attributes\":{\"callback\":null,\"data\":{\"x\":[250,249,248,247,246,245,244,243,242,241,240,239,238,237,236,235,234,233,232,231,230,229,228,227,226,225,224,223,222,221,220,219,218,217,216,215,214,213,212,211,210,209,208,207,206,205,204,203,202,201,200,199,198,197,196,195,194,193,192,191,190,189,188,187,186,185,184,183,182,181,180,179,178,177,176,175,174,173,172,171,170,169,168,167,166,165,164,163,162,161,160,159,158,157,156,155,154,153,152,151,150,149,148,147,146,145,144,143,142,141,140,139,138,137,136,135,134,133,132,131,130,129,128,127,126,125,124,123,122,121,120,119,118,117,116,115,114,113,112,111,110,109,108,107,106,105,104,103,102,101,100,99,98,97,96,95,94,93,92,91,90,89,88,87,86,85,84,83,82,81,80,79,78,77,76,75,74,73,72,71,70,69,68,67,66,65,64,63,62,61,60,59,58,57,56,55,54,53,52,51,50,49,48,47,46,45,44,43,42,41,40,39,38,37,36,35,34,33,32,31,30,29,28,27,26,25,24,23,22,21,20,19,18,17,16,15,14,13,12,11,10,9,8,7,6,5,4,3,2,1,0],\"y\":{\"__ndarray__\":\"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\",\"dtype\":\"float64\",\"shape\":[251]}},\"selected\":{\"id\":\"8975\",\"type\":\"Selection\"},\"selection_policy\":{\"id\":\"8974\",\"type\":\"UnionRenderers\"}},\"id\":\"8692\",\"type\":\"ColumnDataSource\"},{\"attributes\":{\"line_color\":\"red\",\"x\":{\"field\":\"x\"},\"y\":{\"field\":\"y\"}},\"id\":\"8693\",\"type\":\"Line\"},{\"attributes\":{},\"id\":\"8683\",\"type\":\"ResetTool\"},{\"attributes\":{},\"id\":\"8684\",\"type\":\"HelpTool\"},{\"attributes\":{\"axis_label\":\"Days to Expiry\",\"formatter\":{\"id\":\"8701\",\"type\":\"BasicTickFormatter\"},\"ticker\":{\"id\":\"8670\",\"type\":\"BasicTicker\"}},\"id\":\"8669\",\"type\":\"LinearAxis\"},{\"attributes\":{\"ticker\":{\"id\":\"8670\",\"type\":\"BasicTicker\"}},\"id\":\"8673\",\"type\":\"Grid\"},{\"attributes\":{},\"id\":\"8682\",\"type\":\"SaveTool\"},{\"attributes\":{\"source\":{\"id\":\"8692\",\"type\":\"ColumnDataSource\"}},\"id\":\"8696\",\"type\":\"CDSView\"},{\"attributes\":{\"axis_label\":\"Stock Price\",\"formatter\":{\"id\":\"8699\",\"type\":\"BasicTickFormatter\"},\"ticker\":{\"id\":\"8675\",\"type\":\"BasicTicker\"}},\"id\":\"8674\",\"type\":\"LinearAxis\"},{\"attributes\":{},\"id\":\"8679\",\"type\":\"PanTool\"},{\"attributes\":{\"bottom_units\":\"screen\",\"fill_alpha\":{\"value\":0.5},\"fill_color\":{\"value\":\"lightgrey\"},\"left_units\":\"screen\",\"level\":\"overlay\",\"line_alpha\":{\"value\":1.0},\"line_color\":{\"value\":\"black\"},\"line_dash\":[4,4],\"line_width\":{\"value\":2},\"render_mode\":\"css\",\"right_units\":\"screen\",\"top_units\":\"screen\"},\"id\":\"8702\",\"type\":\"BoxAnnotation\"},{\"attributes\":{\"callback\":null},\"id\":\"8663\",\"type\":\"DataRange1d\"},{\"attributes\":{},\"id\":\"8975\",\"type\":\"Selection\"},{\"attributes\":{},\"id\":\"8675\",\"type\":\"BasicTicker\"},{\"attributes\":{\"overlay\":{\"id\":\"8702\",\"type\":\"BoxAnnotation\"}},\"id\":\"8681\",\"type\":\"BoxZoomTool\"},{\"attributes\":{\"callback\":null,\"flipped\":true},\"id\":\"8661\",\"type\":\"DataRange1d\"},{\"attributes\":{},\"id\":\"8701\",\"type\":\"BasicTickFormatter\"},{\"attributes\":{\"dimension\":1,\"ticker\":{\"id\":\"8675\",\"type\":\"BasicTicker\"}},\"id\":\"8678\",\"type\":\"Grid\"}],\"root_ids\":[\"stock_price_path\"]},\"title\":\"Bokeh Application\",\"version\":\"1.4.0\"}};\n",
       "  var render_items = [{\"docid\":\"1b91096b-88ac-4013-abc2-95c45552946a\",\"notebook_comms_target\":\"8977\",\"roots\":{\"stock_price_path\":\"b39085c0-fc04-4298-bf1a-cc2499f38cf8\"}}];\n",
       "  root.Bokeh.embed.embed_items_notebook(docs_json, render_items);\n",
       "\n",
       "  }\n",
       "  if (root.Bokeh !== undefined) {\n",
       "    embed_document(root);\n",
       "  } else {\n",
       "    var attempts = 0;\n",
       "    var timer = setInterval(function(root) {\n",
       "      if (root.Bokeh !== undefined) {\n",
       "        clearInterval(timer);\n",
       "        embed_document(root);\n",
       "      } else {\n",
       "        attempts++;\n",
       "        if (attempts > 100) {\n",
       "          clearInterval(timer);\n",
       "          console.log(\"Bokeh: ERROR: Unable to run BokehJS code because BokehJS library is missing\");\n",
       "        }\n",
       "      }\n",
       "    }, 10, root)\n",
       "  }\n",
       "})(window);"
      ],
      "application/vnd.bokehjs_exec.v0+json": ""
     },
     "metadata": {
      "application/vnd.bokehjs_exec.v0+json": {
       "id": "stock_price_path"
      }
     },
     "output_type": "display_data"
    },
    {
     "data": {
      "text/html": [
       "\n",
       "\n",
       "\n",
       "\n",
       "\n",
       "\n",
       "  <div class=\"bk-root\" id=\"2405f67f-1d88-412a-86c7-d9b10b95dc77\" data-root-id=\"stock_price_path\"></div>\n"
      ]
     },
     "metadata": {},
     "output_type": "display_data"
    },
    {
     "data": {
      "application/javascript": [
       "(function(root) {\n",
       "  function embed_document(root) {\n",
       "    \n",
       "  var docs_json = {\"aaa017ed-f0f1-401e-b7d7-df8e15db19cb\":{\"roots\":{\"references\":[{\"attributes\":{\"below\":[{\"id\":\"9037\",\"type\":\"LinearAxis\"}],\"center\":[{\"id\":\"9041\",\"type\":\"Grid\"},{\"id\":\"9046\",\"type\":\"Grid\"},{\"id\":\"9071\",\"type\":\"Legend\"}],\"left\":[{\"id\":\"9042\",\"type\":\"LinearAxis\"}],\"plot_height\":300,\"plot_width\":800,\"renderers\":[{\"id\":\"9063\",\"type\":\"GlyphRenderer\"}],\"title\":{\"id\":\"9027\",\"type\":\"Title\"},\"toolbar\":{\"id\":\"9053\",\"type\":\"Toolbar\"},\"x_range\":{\"id\":\"9029\",\"type\":\"DataRange1d\"},\"x_scale\":{\"id\":\"9033\",\"type\":\"LinearScale\"},\"y_range\":{\"id\":\"9031\",\"type\":\"DataRange1d\"},\"y_scale\":{\"id\":\"9035\",\"type\":\"LinearScale\"}},\"id\":\"stock_price_path\",\"subtype\":\"Figure\",\"type\":\"Plot\"},{\"attributes\":{},\"id\":\"9043\",\"type\":\"BasicTicker\"},{\"attributes\":{\"bottom_units\":\"screen\",\"fill_alpha\":{\"value\":0.5},\"fill_color\":{\"value\":\"lightgrey\"},\"left_units\":\"screen\",\"level\":\"overlay\",\"line_alpha\":{\"value\":1.0},\"line_color\":{\"value\":\"black\"},\"line_dash\":[4,4],\"line_width\":{\"value\":2},\"render_mode\":\"css\",\"right_units\":\"screen\",\"top_units\":\"screen\"},\"id\":\"9070\",\"type\":\"BoxAnnotation\"},{\"attributes\":{\"callback\":null,\"flipped\":true},\"id\":\"9029\",\"type\":\"DataRange1d\"},{\"attributes\":{},\"id\":\"9069\",\"type\":\"BasicTickFormatter\"},{\"attributes\":{\"ticker\":{\"id\":\"9038\",\"type\":\"BasicTicker\"}},\"id\":\"9041\",\"type\":\"Grid\"},{\"attributes\":{\"line_alpha\":0.1,\"line_color\":\"#1f77b4\",\"x\":{\"field\":\"x\"},\"y\":{\"field\":\"y\"}},\"id\":\"9062\",\"type\":\"Line\"},{\"attributes\":{\"dimension\":1,\"ticker\":{\"id\":\"9043\",\"type\":\"BasicTicker\"}},\"id\":\"9046\",\"type\":\"Grid\"},{\"attributes\":{\"callback\":null,\"data\":{\"x\":[250,249,248,247,246,245,244,243,242,241,240,239,238,237,236,235,234,233,232,231,230,229,228,227,226,225,224,223,222,221,220,219,218,217,216,215,214,213,212,211,210,209,208,207,206,205,204,203,202,201,200,199,198,197,196,195,194,193,192,191,190,189,188,187,186,185,184,183,182,181,180,179,178,177,176,175,174,173,172,171,170,169,168,167,166,165,164,163,162,161,160,159,158,157,156,155,154,153,152,151,150,149,148,147,146,145,144,143,142,141,140,139,138,137,136,135,134,133,132,131,130,129,128,127,126,125,124,123,122,121,120,119,118,117,116,115,114,113,112,111,110,109,108,107,106,105,104,103,102,101,100,99,98,97,96,95,94,93,92,91,90,89,88,87,86,85,84,83,82,81,80,79,78,77,76,75,74,73,72,71,70,69,68,67,66,65,64,63,62,61,60,59,58,57,56,55,54,53,52,51,50,49,48,47,46,45,44,43,42,41,40,39,38,37,36,35,34,33,32,31,30,29,28,27,26,25,24,23,22,21,20,19,18,17,16,15,14,13,12,11,10,9,8,7,6,5,4,3,2,1,0],\"y\":{\"__ndarray__\":\"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\",\"dtype\":\"float64\",\"shape\":[251]}},\"selected\":{\"id\":\"9351\",\"type\":\"Selection\"},\"selection_policy\":{\"id\":\"9350\",\"type\":\"UnionRenderers\"}},\"id\":\"9060\",\"type\":\"ColumnDataSource\"},{\"attributes\":{\"text\":\"Simulated Stock Price Path corresponding to 50% PnL percentile\"},\"id\":\"9027\",\"type\":\"Title\"},{\"attributes\":{\"axis_label\":\"Days to Expiry\",\"formatter\":{\"id\":\"9069\",\"type\":\"BasicTickFormatter\"},\"ticker\":{\"id\":\"9038\",\"type\":\"BasicTicker\"}},\"id\":\"9037\",\"type\":\"LinearAxis\"},{\"attributes\":{},\"id\":\"9351\",\"type\":\"Selection\"},{\"attributes\":{\"line_color\":\"red\",\"x\":{\"field\":\"x\"},\"y\":{\"field\":\"y\"}},\"id\":\"9061\",\"type\":\"Line\"},{\"attributes\":{},\"id\":\"9047\",\"type\":\"PanTool\"},{\"attributes\":{\"axis_label\":\"Stock Price\",\"formatter\":{\"id\":\"9067\",\"type\":\"BasicTickFormatter\"},\"ticker\":{\"id\":\"9043\",\"type\":\"BasicTicker\"}},\"id\":\"9042\",\"type\":\"LinearAxis\"},{\"attributes\":{},\"id\":\"9067\",\"type\":\"BasicTickFormatter\"},{\"attributes\":{},\"id\":\"9033\",\"type\":\"LinearScale\"},{\"attributes\":{},\"id\":\"9051\",\"type\":\"ResetTool\"},{\"attributes\":{\"overlay\":{\"id\":\"9070\",\"type\":\"BoxAnnotation\"}},\"id\":\"9049\",\"type\":\"BoxZoomTool\"},{\"attributes\":{\"data_source\":{\"id\":\"9060\",\"type\":\"ColumnDataSource\"},\"glyph\":{\"id\":\"9061\",\"type\":\"Line\"},\"hover_glyph\":null,\"muted_glyph\":null,\"nonselection_glyph\":{\"id\":\"9062\",\"type\":\"Line\"},\"selection_glyph\":null,\"view\":{\"id\":\"9064\",\"type\":\"CDSView\"}},\"id\":\"9063\",\"type\":\"GlyphRenderer\"},{\"attributes\":{},\"id\":\"9035\",\"type\":\"LinearScale\"},{\"attributes\":{\"source\":{\"id\":\"9060\",\"type\":\"ColumnDataSource\"}},\"id\":\"9064\",\"type\":\"CDSView\"},{\"attributes\":{},\"id\":\"9052\",\"type\":\"HelpTool\"},{\"attributes\":{},\"id\":\"9048\",\"type\":\"WheelZoomTool\"},{\"attributes\":{\"label\":{\"value\":\"Ending PnL = 0.63\"},\"renderers\":[{\"id\":\"9063\",\"type\":\"GlyphRenderer\"}]},\"id\":\"9072\",\"type\":\"LegendItem\"},{\"attributes\":{\"items\":[{\"id\":\"9072\",\"type\":\"LegendItem\"}]},\"id\":\"9071\",\"type\":\"Legend\"},{\"attributes\":{\"active_drag\":\"auto\",\"active_inspect\":\"auto\",\"active_multi\":null,\"active_scroll\":\"auto\",\"active_tap\":\"auto\",\"tools\":[{\"id\":\"9047\",\"type\":\"PanTool\"},{\"id\":\"9048\",\"type\":\"WheelZoomTool\"},{\"id\":\"9049\",\"type\":\"BoxZoomTool\"},{\"id\":\"9050\",\"type\":\"SaveTool\"},{\"id\":\"9051\",\"type\":\"ResetTool\"},{\"id\":\"9052\",\"type\":\"HelpTool\"}]},\"id\":\"9053\",\"type\":\"Toolbar\"},{\"attributes\":{},\"id\":\"9350\",\"type\":\"UnionRenderers\"},{\"attributes\":{\"callback\":null},\"id\":\"9031\",\"type\":\"DataRange1d\"},{\"attributes\":{},\"id\":\"9038\",\"type\":\"BasicTicker\"},{\"attributes\":{},\"id\":\"9050\",\"type\":\"SaveTool\"}],\"root_ids\":[\"stock_price_path\"]},\"title\":\"Bokeh Application\",\"version\":\"1.4.0\"}};\n",
       "  var render_items = [{\"docid\":\"aaa017ed-f0f1-401e-b7d7-df8e15db19cb\",\"notebook_comms_target\":\"9353\",\"roots\":{\"stock_price_path\":\"2405f67f-1d88-412a-86c7-d9b10b95dc77\"}}];\n",
       "  root.Bokeh.embed.embed_items_notebook(docs_json, render_items);\n",
       "\n",
       "  }\n",
       "  if (root.Bokeh !== undefined) {\n",
       "    embed_document(root);\n",
       "  } else {\n",
       "    var attempts = 0;\n",
       "    var timer = setInterval(function(root) {\n",
       "      if (root.Bokeh !== undefined) {\n",
       "        clearInterval(timer);\n",
       "        embed_document(root);\n",
       "      } else {\n",
       "        attempts++;\n",
       "        if (attempts > 100) {\n",
       "          clearInterval(timer);\n",
       "          console.log(\"Bokeh: ERROR: Unable to run BokehJS code because BokehJS library is missing\");\n",
       "        }\n",
       "      }\n",
       "    }, 10, root)\n",
       "  }\n",
       "})(window);"
      ],
      "application/vnd.bokehjs_exec.v0+json": ""
     },
     "metadata": {
      "application/vnd.bokehjs_exec.v0+json": {
       "id": "stock_price_path"
      }
     },
     "output_type": "display_data"
    },
    {
     "data": {
      "text/html": [
       "\n",
       "\n",
       "\n",
       "\n",
       "\n",
       "\n",
       "  <div class=\"bk-root\" id=\"508170ae-6895-4bac-98ba-1043cc6039ee\" data-root-id=\"stock_price_path\"></div>\n"
      ]
     },
     "metadata": {},
     "output_type": "display_data"
    },
    {
     "data": {
      "application/javascript": [
       "(function(root) {\n",
       "  function embed_document(root) {\n",
       "    \n",
       "  var docs_json = {\"81f98d93-c315-438b-bcba-4bd1b6518ae9\":{\"roots\":{\"references\":[{\"attributes\":{\"below\":[{\"id\":\"9413\",\"type\":\"LinearAxis\"}],\"center\":[{\"id\":\"9417\",\"type\":\"Grid\"},{\"id\":\"9422\",\"type\":\"Grid\"},{\"id\":\"9447\",\"type\":\"Legend\"}],\"left\":[{\"id\":\"9418\",\"type\":\"LinearAxis\"}],\"plot_height\":300,\"plot_width\":800,\"renderers\":[{\"id\":\"9439\",\"type\":\"GlyphRenderer\"}],\"title\":{\"id\":\"9403\",\"type\":\"Title\"},\"toolbar\":{\"id\":\"9429\",\"type\":\"Toolbar\"},\"x_range\":{\"id\":\"9405\",\"type\":\"DataRange1d\"},\"x_scale\":{\"id\":\"9409\",\"type\":\"LinearScale\"},\"y_range\":{\"id\":\"9407\",\"type\":\"DataRange1d\"},\"y_scale\":{\"id\":\"9411\",\"type\":\"LinearScale\"}},\"id\":\"stock_price_path\",\"subtype\":\"Figure\",\"type\":\"Plot\"},{\"attributes\":{\"data_source\":{\"id\":\"9436\",\"type\":\"ColumnDataSource\"},\"glyph\":{\"id\":\"9437\",\"type\":\"Line\"},\"hover_glyph\":null,\"muted_glyph\":null,\"nonselection_glyph\":{\"id\":\"9438\",\"type\":\"Line\"},\"selection_glyph\":null,\"view\":{\"id\":\"9440\",\"type\":\"CDSView\"}},\"id\":\"9439\",\"type\":\"GlyphRenderer\"},{\"attributes\":{\"source\":{\"id\":\"9436\",\"type\":\"ColumnDataSource\"}},\"id\":\"9440\",\"type\":\"CDSView\"},{\"attributes\":{\"bottom_units\":\"screen\",\"fill_alpha\":{\"value\":0.5},\"fill_color\":{\"value\":\"lightgrey\"},\"left_units\":\"screen\",\"level\":\"overlay\",\"line_alpha\":{\"value\":1.0},\"line_color\":{\"value\":\"black\"},\"line_dash\":[4,4],\"line_width\":{\"value\":2},\"render_mode\":\"css\",\"right_units\":\"screen\",\"top_units\":\"screen\"},\"id\":\"9446\",\"type\":\"BoxAnnotation\"},{\"attributes\":{},\"id\":\"9409\",\"type\":\"LinearScale\"},{\"attributes\":{},\"id\":\"9426\",\"type\":\"SaveTool\"},{\"attributes\":{},\"id\":\"9419\",\"type\":\"BasicTicker\"},{\"attributes\":{},\"id\":\"9734\",\"type\":\"UnionRenderers\"},{\"attributes\":{\"axis_label\":\"Days to Expiry\",\"formatter\":{\"id\":\"9445\",\"type\":\"BasicTickFormatter\"},\"ticker\":{\"id\":\"9414\",\"type\":\"BasicTicker\"}},\"id\":\"9413\",\"type\":\"LinearAxis\"},{\"attributes\":{},\"id\":\"9411\",\"type\":\"LinearScale\"},{\"attributes\":{\"callback\":null,\"data\":{\"x\":[250,249,248,247,246,245,244,243,242,241,240,239,238,237,236,235,234,233,232,231,230,229,228,227,226,225,224,223,222,221,220,219,218,217,216,215,214,213,212,211,210,209,208,207,206,205,204,203,202,201,200,199,198,197,196,195,194,193,192,191,190,189,188,187,186,185,184,183,182,181,180,179,178,177,176,175,174,173,172,171,170,169,168,167,166,165,164,163,162,161,160,159,158,157,156,155,154,153,152,151,150,149,148,147,146,145,144,143,142,141,140,139,138,137,136,135,134,133,132,131,130,129,128,127,126,125,124,123,122,121,120,119,118,117,116,115,114,113,112,111,110,109,108,107,106,105,104,103,102,101,100,99,98,97,96,95,94,93,92,91,90,89,88,87,86,85,84,83,82,81,80,79,78,77,76,75,74,73,72,71,70,69,68,67,66,65,64,63,62,61,60,59,58,57,56,55,54,53,52,51,50,49,48,47,46,45,44,43,42,41,40,39,38,37,36,35,34,33,32,31,30,29,28,27,26,25,24,23,22,21,20,19,18,17,16,15,14,13,12,11,10,9,8,7,6,5,4,3,2,1,0],\"y\":{\"__ndarray__\":\"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\",\"dtype\":\"float64\",\"shape\":[251]}},\"selected\":{\"id\":\"9735\",\"type\":\"Selection\"},\"selection_policy\":{\"id\":\"9734\",\"type\":\"UnionRenderers\"}},\"id\":\"9436\",\"type\":\"ColumnDataSource\"},{\"attributes\":{\"text\":\"Simulated Stock Price Path corresponding to 100% PnL percentile\"},\"id\":\"9403\",\"type\":\"Title\"},{\"attributes\":{},\"id\":\"9414\",\"type\":\"BasicTicker\"},{\"attributes\":{\"active_drag\":\"auto\",\"active_inspect\":\"auto\",\"active_multi\":null,\"active_scroll\":\"auto\",\"active_tap\":\"auto\",\"tools\":[{\"id\":\"9423\",\"type\":\"PanTool\"},{\"id\":\"9424\",\"type\":\"WheelZoomTool\"},{\"id\":\"9425\",\"type\":\"BoxZoomTool\"},{\"id\":\"9426\",\"type\":\"SaveTool\"},{\"id\":\"9427\",\"type\":\"ResetTool\"},{\"id\":\"9428\",\"type\":\"HelpTool\"}]},\"id\":\"9429\",\"type\":\"Toolbar\"},{\"attributes\":{\"label\":{\"value\":\"Ending PnL = 10.82\"},\"renderers\":[{\"id\":\"9439\",\"type\":\"GlyphRenderer\"}]},\"id\":\"9448\",\"type\":\"LegendItem\"},{\"attributes\":{},\"id\":\"9423\",\"type\":\"PanTool\"},{\"attributes\":{\"axis_label\":\"Stock Price\",\"formatter\":{\"id\":\"9443\",\"type\":\"BasicTickFormatter\"},\"ticker\":{\"id\":\"9419\",\"type\":\"BasicTicker\"}},\"id\":\"9418\",\"type\":\"LinearAxis\"},{\"attributes\":{},\"id\":\"9443\",\"type\":\"BasicTickFormatter\"},{\"attributes\":{\"line_alpha\":0.1,\"line_color\":\"#1f77b4\",\"x\":{\"field\":\"x\"},\"y\":{\"field\":\"y\"}},\"id\":\"9438\",\"type\":\"Line\"},{\"attributes\":{\"line_color\":\"red\",\"x\":{\"field\":\"x\"},\"y\":{\"field\":\"y\"}},\"id\":\"9437\",\"type\":\"Line\"},{\"attributes\":{},\"id\":\"9427\",\"type\":\"ResetTool\"},{\"attributes\":{},\"id\":\"9428\",\"type\":\"HelpTool\"},{\"attributes\":{},\"id\":\"9735\",\"type\":\"Selection\"},{\"attributes\":{\"callback\":null,\"flipped\":true},\"id\":\"9405\",\"type\":\"DataRange1d\"},{\"attributes\":{\"callback\":null},\"id\":\"9407\",\"type\":\"DataRange1d\"},{\"attributes\":{\"dimension\":1,\"ticker\":{\"id\":\"9419\",\"type\":\"BasicTicker\"}},\"id\":\"9422\",\"type\":\"Grid\"},{\"attributes\":{},\"id\":\"9424\",\"type\":\"WheelZoomTool\"},{\"attributes\":{\"overlay\":{\"id\":\"9446\",\"type\":\"BoxAnnotation\"}},\"id\":\"9425\",\"type\":\"BoxZoomTool\"},{\"attributes\":{\"items\":[{\"id\":\"9448\",\"type\":\"LegendItem\"}]},\"id\":\"9447\",\"type\":\"Legend\"},{\"attributes\":{},\"id\":\"9445\",\"type\":\"BasicTickFormatter\"},{\"attributes\":{\"ticker\":{\"id\":\"9414\",\"type\":\"BasicTicker\"}},\"id\":\"9417\",\"type\":\"Grid\"}],\"root_ids\":[\"stock_price_path\"]},\"title\":\"Bokeh Application\",\"version\":\"1.4.0\"}};\n",
       "  var render_items = [{\"docid\":\"81f98d93-c315-438b-bcba-4bd1b6518ae9\",\"notebook_comms_target\":\"9737\",\"roots\":{\"stock_price_path\":\"508170ae-6895-4bac-98ba-1043cc6039ee\"}}];\n",
       "  root.Bokeh.embed.embed_items_notebook(docs_json, render_items);\n",
       "\n",
       "  }\n",
       "  if (root.Bokeh !== undefined) {\n",
       "    embed_document(root);\n",
       "  } else {\n",
       "    var attempts = 0;\n",
       "    var timer = setInterval(function(root) {\n",
       "      if (root.Bokeh !== undefined) {\n",
       "        clearInterval(timer);\n",
       "        embed_document(root);\n",
       "      } else {\n",
       "        attempts++;\n",
       "        if (attempts > 100) {\n",
       "          clearInterval(timer);\n",
       "          console.log(\"Bokeh: ERROR: Unable to run BokehJS code because BokehJS library is missing\");\n",
       "        }\n",
       "      }\n",
       "    }, 10, root)\n",
       "  }\n",
       "})(window);"
      ],
      "application/vnd.bokehjs_exec.v0+json": ""
     },
     "metadata": {
      "application/vnd.bokehjs_exec.v0+json": {
       "id": "stock_price_path"
      }
     },
     "output_type": "display_data"
    }
   ],
   "source": [
    "def display_simulation():\n",
    "    button = widgets.Button(\n",
    "        description='Run Simulations',\n",
    "        disabled=False,\n",
    "        button_style='success',\n",
    "    )\n",
    "    display(button)\n",
    "    button.on_click(simulation)\n",
    "display_simulation()"
   ]
  },
  {
   "cell_type": "code",
   "execution_count": 149,
   "metadata": {},
   "outputs": [
    {
     "data": {
      "application/vnd.jupyter.widget-view+json": {
       "model_id": "3da33d986fea4851b363c24d9f4e4e04",
       "version_major": 2,
       "version_minor": 0
      },
      "text/plain": [
       "Button(button_style='success', description='Run Simulations', style=ButtonStyle())"
      ]
     },
     "metadata": {},
     "output_type": "display_data"
    },
    {
     "name": "stdout",
     "output_type": "stream",
     "text": [
      "Simulating Number of Path = 1000\n"
     ]
    },
    {
     "data": {
      "application/vnd.jupyter.widget-view+json": {
       "model_id": "73b9ff52d55f42f192c4f0b3e65db86c",
       "version_major": 2,
       "version_minor": 0
      },
      "text/plain": [
       "HBox(children=(FloatProgress(value=0.0, max=1000.0), HTML(value='')))"
      ]
     },
     "metadata": {},
     "output_type": "display_data"
    },
    {
     "name": "stdout",
     "output_type": "stream",
     "text": [
      "\n",
      "Percentage of time (PnL < 0): 0.00%\n",
      "Average PnL: 1.59\n",
      "Median PnL: 1.58\n",
      "Highest PnL: 3.84\n",
      "Lowest PnL: 0.26\n",
      "Select Path to display based on PnL Percentile\n"
     ]
    },
    {
     "data": {
      "application/vnd.jupyter.widget-view+json": {
       "model_id": "bae6610df92a486fb73d80ab8f002d2e",
       "version_major": 2,
       "version_minor": 0
      },
      "text/plain": [
       "IntSlider(value=50, continuous_update=False, description='Percentile')"
      ]
     },
     "metadata": {},
     "output_type": "display_data"
    },
    {
     "data": {
      "text/html": [
       "\n",
       "\n",
       "\n",
       "\n",
       "\n",
       "\n",
       "  <div class=\"bk-root\" id=\"d8da5f28-1702-4fdd-8357-1a4226ad853f\" data-root-id=\"stock_price_path\"></div>\n"
      ]
     },
     "metadata": {},
     "output_type": "display_data"
    },
    {
     "data": {
      "application/javascript": [
       "(function(root) {\n",
       "  function embed_document(root) {\n",
       "    \n",
       "  var docs_json = {\"176a6b26-5cff-4180-a45d-ccc4f6e3b585\":{\"roots\":{\"references\":[{\"attributes\":{\"below\":[{\"id\":\"6949\",\"type\":\"LinearAxis\"}],\"center\":[{\"id\":\"6953\",\"type\":\"Grid\"},{\"id\":\"6958\",\"type\":\"Grid\"},{\"id\":\"6983\",\"type\":\"Legend\"}],\"left\":[{\"id\":\"6954\",\"type\":\"LinearAxis\"}],\"plot_height\":300,\"plot_width\":800,\"renderers\":[{\"id\":\"6975\",\"type\":\"GlyphRenderer\"}],\"title\":{\"id\":\"6939\",\"type\":\"Title\"},\"toolbar\":{\"id\":\"6965\",\"type\":\"Toolbar\"},\"x_range\":{\"id\":\"6941\",\"type\":\"DataRange1d\"},\"x_scale\":{\"id\":\"6945\",\"type\":\"LinearScale\"},\"y_range\":{\"id\":\"6943\",\"type\":\"DataRange1d\"},\"y_scale\":{\"id\":\"6947\",\"type\":\"LinearScale\"}},\"id\":\"stock_price_path\",\"subtype\":\"Figure\",\"type\":\"Plot\"},{\"attributes\":{\"text\":\"Simulated Stock Price Path corresponding to 0% PnL percentile\"},\"id\":\"6939\",\"type\":\"Title\"},{\"attributes\":{\"callback\":null},\"id\":\"6943\",\"type\":\"DataRange1d\"},{\"attributes\":{\"callback\":null,\"data\":{\"x\":[250,249,248,247,246,245,244,243,242,241,240,239,238,237,236,235,234,233,232,231,230,229,228,227,226,225,224,223,222,221,220,219,218,217,216,215,214,213,212,211,210,209,208,207,206,205,204,203,202,201,200,199,198,197,196,195,194,193,192,191,190,189,188,187,186,185,184,183,182,181,180,179,178,177,176,175,174,173,172,171,170,169,168,167,166,165,164,163,162,161,160,159,158,157,156,155,154,153,152,151,150,149,148,147,146,145,144,143,142,141,140,139,138,137,136,135,134,133,132,131,130,129,128,127,126,125,124,123,122,121,120,119,118,117,116,115,114,113,112,111,110,109,108,107,106,105,104,103,102,101,100,99,98,97,96,95,94,93,92,91,90,89,88,87,86,85,84,83,82,81,80,79,78,77,76,75,74,73,72,71,70,69,68,67,66,65,64,63,62,61,60,59,58,57,56,55,54,53,52,51,50,49,48,47,46,45,44,43,42,41,40,39,38,37,36,35,34,33,32,31,30,29,28,27,26,25,24,23,22,21,20,19,18,17,16,15,14,13,12,11,10,9,8,7,6,5,4,3,2,1,0],\"y\":{\"__ndarray__\":\"AAAAAAAAWUBw4jIURntZQEGYvWgF9FlAo7Fyq2VkWkAZ87zPTNVaQAcH7fTHTFtAg9DQ5AjNWkCBix7DJ0xbQKdjDMnrxVtAmtj1Daw+XEC+Qp4t2r9cQFlehX8cP11AZivOIEXAXUCJuoSB0j9dQDOqGvqWv11AWJD1i6JKXkAlyICuwc9eQNp1ViDdRl5AzOk8qrPUXkC59VauVjleQOW+Um7ArF1AHKzJqSwwXkAuFXIVgsBeQHdLdUzmV19AJDvYY9XlX0DG12VpFjpgQNmBQBTRf2BAjkn5QvzLYEDXTJZS9xlhQI5nXHorYWFADKD1O5iuYUD+bg872QBiQBMR9NKIq2FAARmVbCTzYUDbKSDhpKRhQHFVEdMc9GFAJdz641Q7YkB3McomZe5hQKTxOiBKQGJAr6eSbT+XYkDlVwN2jeliQP1otEZBmGJAyuATt0DpYkAxl5QeEj9jQFuJoJeulWNAPfc4tKJBY0BIAZQb2JZjQAw4pEQF8WNAmnktHa1MZECQIp1iLfJjQJE+c7vlTmRAcahkS4bpY0C8k6KoVZRjQGmeBqu98GNAti5Js25LZED9qEOqK6VkQPopzfRbSGRA5rP0WwjwY0AVSvOrcEpkQMs/7yz/pmRAWxkR8zZEZED3tg0ou+VjQNh7TzYKQWRAeTrwSuudZEC2GO8i3f5kQAzEjjnIXWVAZc/PBdG7ZUB28KF7RV5lQHX3H8dRvGVAJtjNTSFaZUDsP7XKoPtkQFbDA1sRnGRA+9Rha8/1ZEDvcsWbKVRlQLT4uY62uGVAtQ1E8IlZZUCkdw8/9r5lQNjCAA9kHGZA9q2MKQJ+ZkDKxxeJ3RVmQKYTe4Rsr2VAOaMXb7AQZkAcWUy7T6ZlQBKIpBUVD2ZAdzf6U16mZUBPZZNm1gVmQP9sbfRub2ZA6pKbRvvUZkAV9wqRNmpmQJws9CGuAmZAfahDRwBwZkCRpWpjVN5mQDtHToDwQWdApwwi+lfTZkA5IfILQjxnQAEL2HlypWdAxBygANURaEAqzvKHqIBoQP4WvUJeDGhAoO6m4uZ5aEDFA1tzHOloQPfVbX5rfWhAxUhY3q/maEB3c0/DylNpQFMKga/V52hAlGBFOf9WaUD1Vp6gkstpQF/akVOkPGpAqxadAKG6aUDW8T+YWUVpQAUy+k8/umlA6AinsTxOaUBmqMNn9dxoQGgwY3pLcWhAncywM10EaEBzDPii2ZFnQKvGhoxIAWhAzXHDnDOZZ0ASrVgeOjVnQPxfvuX5mWdAybwW1Y0SaEDJBmeB5XpoQLbClqVG8WhAHdAvqZlhaUAXrBPiCtBpQBWyLqAZX2lAi9/JlljUaUC+dHnn60lqQBsDv7CXumpAbKbd4co4a0C+D0JfirprQMR/CdiSPWtAEIYMZQ+8a0BHln86RzhrQMNPv6uVuGtAup5EN4U9bEBAs2fnYbhsQBTl3f3HN21AfqMCuw2+bUCJWCgMa0xuQMgwIaBzu21ApdS6TAonbUBO8rJj67FtQMCZuI1sMW1ACtopHP23bEDevfxdZzdsQNppcfqFuGxAZZ+8RRVFbUCiWognirlsQLAqVIwuNmxAmRlIKI67a0CFsxapqkFrQBNayKaRzGpA5lg7KClKakCEoN1W+dhpQCo8SLTbZGlAoGwlkFPyaEBHQaGYZoBoQFpnnXP97GhAU1edKF1saUBY7cL/SABpQKqlUBy5aWlAakdba9jeaUAg7EUC4FFqQOg6bdsy2WlATYzahx9UakDhjV4pacJqQG8ikC8uR2pAdXowsC+6akAqwX/pTzFrQK/DHAPguGpAl6fNgpMsa0Dlca9PhLNrQJL6JdL2KWxAaorSkDKqa0AuoeuGmSRsQDb01/cCp2xAfRFjNowubEBao7nzJKZsQDeT7VLOKm1AcWVrmcWybUCHhDLVxTVuQEIJSK5PxG5A++P+rZYybkBHqXKKQsFuQNp96hWKU29APXeMX9vmb0BL4qgGajdwQNySwWjC3W9AoPgMgBpOb0ATuswLseRvQHw+Rn1OPnBAQxswma3zb0BatC0lC2BvQDznw1S88G9AdXXpcMdtb0BEWQaXw+VuQH3Sv7AiX25AX6QcoQjtbkB+TewDJWdvQHu0zdWC+G9Ax6yqmGlDcEBAwycCn/1vQJjjPQ2dRXBAvloRse79b0B3VlQIRktwQKjADpfXl3BA4aLQ0tJMcEDtfsR56gFwQGiJqCQHam9A313U8ZnbbkBCQ1jd5kZuQEqFfoxby25AmWSfXus7bkCIl2aVnc5uQC8BZJXWZ29APXs5WHgAcED/MlQfyUFwQHv9pUPP/29A+FMy8Glnb0CdRIiSoONuQGWcEpAKUm5AIOVAcjThbUDImWf8k1ptQLfLUYR30WxAQABkcihPbUCahlBK2s1sQL6MprxwRWxAc3C+HR/HbEAPRebtEEhtQIA7dZZkvmxAsh4qFlE+bEAS7HYr/7xrQGARvpmMPWxAANGo3Kq+bECif7D4yjttQIOcPfDXumxA1kl2ql48bUCoeNjwoLZsQK+hJRufMWxAaTZNn7OwbEDPBKLVryZtQFnK5MpArG1AYDgQApMebUCHOX9PZZ9tQNgg+jF/Gm1AqEOdX8uabUBXFzww1RluQEXqGGHCoG1Ao+oRpcoibUAeaj63oZtsQA==\",\"dtype\":\"float64\",\"shape\":[251]}},\"selected\":{\"id\":\"7215\",\"type\":\"Selection\"},\"selection_policy\":{\"id\":\"7214\",\"type\":\"UnionRenderers\"}},\"id\":\"6972\",\"type\":\"ColumnDataSource\"},{\"attributes\":{},\"id\":\"6960\",\"type\":\"WheelZoomTool\"},{\"attributes\":{},\"id\":\"6979\",\"type\":\"BasicTickFormatter\"},{\"attributes\":{\"active_drag\":\"auto\",\"active_inspect\":\"auto\",\"active_multi\":null,\"active_scroll\":\"auto\",\"active_tap\":\"auto\",\"tools\":[{\"id\":\"6959\",\"type\":\"PanTool\"},{\"id\":\"6960\",\"type\":\"WheelZoomTool\"},{\"id\":\"6961\",\"type\":\"BoxZoomTool\"},{\"id\":\"6962\",\"type\":\"SaveTool\"},{\"id\":\"6963\",\"type\":\"ResetTool\"},{\"id\":\"6964\",\"type\":\"HelpTool\"}]},\"id\":\"6965\",\"type\":\"Toolbar\"},{\"attributes\":{},\"id\":\"6950\",\"type\":\"BasicTicker\"},{\"attributes\":{\"label\":{\"value\":\"Ending PnL = 0.26\"},\"renderers\":[{\"id\":\"6975\",\"type\":\"GlyphRenderer\"}]},\"id\":\"6984\",\"type\":\"LegendItem\"},{\"attributes\":{},\"id\":\"6947\",\"type\":\"LinearScale\"},{\"attributes\":{},\"id\":\"6981\",\"type\":\"BasicTickFormatter\"},{\"attributes\":{},\"id\":\"7215\",\"type\":\"Selection\"},{\"attributes\":{\"bottom_units\":\"screen\",\"fill_alpha\":{\"value\":0.5},\"fill_color\":{\"value\":\"lightgrey\"},\"left_units\":\"screen\",\"level\":\"overlay\",\"line_alpha\":{\"value\":1.0},\"line_color\":{\"value\":\"black\"},\"line_dash\":[4,4],\"line_width\":{\"value\":2},\"render_mode\":\"css\",\"right_units\":\"screen\",\"top_units\":\"screen\"},\"id\":\"6982\",\"type\":\"BoxAnnotation\"},{\"attributes\":{},\"id\":\"6962\",\"type\":\"SaveTool\"},{\"attributes\":{\"ticker\":{\"id\":\"6950\",\"type\":\"BasicTicker\"}},\"id\":\"6953\",\"type\":\"Grid\"},{\"attributes\":{\"dimension\":1,\"ticker\":{\"id\":\"6955\",\"type\":\"BasicTicker\"}},\"id\":\"6958\",\"type\":\"Grid\"},{\"attributes\":{\"line_alpha\":0.1,\"line_color\":\"#1f77b4\",\"x\":{\"field\":\"x\"},\"y\":{\"field\":\"y\"}},\"id\":\"6974\",\"type\":\"Line\"},{\"attributes\":{\"axis_label\":\"Days to Expiry\",\"formatter\":{\"id\":\"6981\",\"type\":\"BasicTickFormatter\"},\"ticker\":{\"id\":\"6950\",\"type\":\"BasicTicker\"}},\"id\":\"6949\",\"type\":\"LinearAxis\"},{\"attributes\":{\"source\":{\"id\":\"6972\",\"type\":\"ColumnDataSource\"}},\"id\":\"6976\",\"type\":\"CDSView\"},{\"attributes\":{\"callback\":null,\"flipped\":true},\"id\":\"6941\",\"type\":\"DataRange1d\"},{\"attributes\":{},\"id\":\"6955\",\"type\":\"BasicTicker\"},{\"attributes\":{},\"id\":\"6945\",\"type\":\"LinearScale\"},{\"attributes\":{\"axis_label\":\"Stock Price\",\"formatter\":{\"id\":\"6979\",\"type\":\"BasicTickFormatter\"},\"ticker\":{\"id\":\"6955\",\"type\":\"BasicTicker\"}},\"id\":\"6954\",\"type\":\"LinearAxis\"},{\"attributes\":{},\"id\":\"7214\",\"type\":\"UnionRenderers\"},{\"attributes\":{},\"id\":\"6963\",\"type\":\"ResetTool\"},{\"attributes\":{},\"id\":\"6959\",\"type\":\"PanTool\"},{\"attributes\":{\"line_color\":\"red\",\"x\":{\"field\":\"x\"},\"y\":{\"field\":\"y\"}},\"id\":\"6973\",\"type\":\"Line\"},{\"attributes\":{},\"id\":\"6964\",\"type\":\"HelpTool\"},{\"attributes\":{\"items\":[{\"id\":\"6984\",\"type\":\"LegendItem\"}]},\"id\":\"6983\",\"type\":\"Legend\"},{\"attributes\":{\"overlay\":{\"id\":\"6982\",\"type\":\"BoxAnnotation\"}},\"id\":\"6961\",\"type\":\"BoxZoomTool\"},{\"attributes\":{\"data_source\":{\"id\":\"6972\",\"type\":\"ColumnDataSource\"},\"glyph\":{\"id\":\"6973\",\"type\":\"Line\"},\"hover_glyph\":null,\"muted_glyph\":null,\"nonselection_glyph\":{\"id\":\"6974\",\"type\":\"Line\"},\"selection_glyph\":null,\"view\":{\"id\":\"6976\",\"type\":\"CDSView\"}},\"id\":\"6975\",\"type\":\"GlyphRenderer\"}],\"root_ids\":[\"stock_price_path\"]},\"title\":\"Bokeh Application\",\"version\":\"1.4.0\"}};\n",
       "  var render_items = [{\"docid\":\"176a6b26-5cff-4180-a45d-ccc4f6e3b585\",\"notebook_comms_target\":\"7217\",\"roots\":{\"stock_price_path\":\"d8da5f28-1702-4fdd-8357-1a4226ad853f\"}}];\n",
       "  root.Bokeh.embed.embed_items_notebook(docs_json, render_items);\n",
       "\n",
       "  }\n",
       "  if (root.Bokeh !== undefined) {\n",
       "    embed_document(root);\n",
       "  } else {\n",
       "    var attempts = 0;\n",
       "    var timer = setInterval(function(root) {\n",
       "      if (root.Bokeh !== undefined) {\n",
       "        clearInterval(timer);\n",
       "        embed_document(root);\n",
       "      } else {\n",
       "        attempts++;\n",
       "        if (attempts > 100) {\n",
       "          clearInterval(timer);\n",
       "          console.log(\"Bokeh: ERROR: Unable to run BokehJS code because BokehJS library is missing\");\n",
       "        }\n",
       "      }\n",
       "    }, 10, root)\n",
       "  }\n",
       "})(window);"
      ],
      "application/vnd.bokehjs_exec.v0+json": ""
     },
     "metadata": {
      "application/vnd.bokehjs_exec.v0+json": {
       "id": "stock_price_path"
      }
     },
     "output_type": "display_data"
    },
    {
     "data": {
      "text/html": [
       "\n",
       "\n",
       "\n",
       "\n",
       "\n",
       "\n",
       "  <div class=\"bk-root\" id=\"5bc1e11a-1402-4f8d-9123-bcde1edb26af\" data-root-id=\"stock_price_path\"></div>\n"
      ]
     },
     "metadata": {},
     "output_type": "display_data"
    },
    {
     "data": {
      "application/javascript": [
       "(function(root) {\n",
       "  function embed_document(root) {\n",
       "    \n",
       "  var docs_json = {\"3dfadeb0-06ef-409e-bd84-7bbf1f866828\":{\"roots\":{\"references\":[{\"attributes\":{\"below\":[{\"id\":\"7277\",\"type\":\"LinearAxis\"}],\"center\":[{\"id\":\"7281\",\"type\":\"Grid\"},{\"id\":\"7286\",\"type\":\"Grid\"},{\"id\":\"7311\",\"type\":\"Legend\"}],\"left\":[{\"id\":\"7282\",\"type\":\"LinearAxis\"}],\"plot_height\":300,\"plot_width\":800,\"renderers\":[{\"id\":\"7303\",\"type\":\"GlyphRenderer\"}],\"title\":{\"id\":\"7267\",\"type\":\"Title\"},\"toolbar\":{\"id\":\"7293\",\"type\":\"Toolbar\"},\"x_range\":{\"id\":\"7269\",\"type\":\"DataRange1d\"},\"x_scale\":{\"id\":\"7273\",\"type\":\"LinearScale\"},\"y_range\":{\"id\":\"7271\",\"type\":\"DataRange1d\"},\"y_scale\":{\"id\":\"7275\",\"type\":\"LinearScale\"}},\"id\":\"stock_price_path\",\"subtype\":\"Figure\",\"type\":\"Plot\"},{\"attributes\":{\"active_drag\":\"auto\",\"active_inspect\":\"auto\",\"active_multi\":null,\"active_scroll\":\"auto\",\"active_tap\":\"auto\",\"tools\":[{\"id\":\"7287\",\"type\":\"PanTool\"},{\"id\":\"7288\",\"type\":\"WheelZoomTool\"},{\"id\":\"7289\",\"type\":\"BoxZoomTool\"},{\"id\":\"7290\",\"type\":\"SaveTool\"},{\"id\":\"7291\",\"type\":\"ResetTool\"},{\"id\":\"7292\",\"type\":\"HelpTool\"}]},\"id\":\"7293\",\"type\":\"Toolbar\"},{\"attributes\":{\"source\":{\"id\":\"7300\",\"type\":\"ColumnDataSource\"}},\"id\":\"7304\",\"type\":\"CDSView\"},{\"attributes\":{\"label\":{\"value\":\"Ending PnL = 1.58\"},\"renderers\":[{\"id\":\"7303\",\"type\":\"GlyphRenderer\"}]},\"id\":\"7312\",\"type\":\"LegendItem\"},{\"attributes\":{\"line_color\":\"red\",\"x\":{\"field\":\"x\"},\"y\":{\"field\":\"y\"}},\"id\":\"7301\",\"type\":\"Line\"},{\"attributes\":{},\"id\":\"7307\",\"type\":\"BasicTickFormatter\"},{\"attributes\":{\"overlay\":{\"id\":\"7310\",\"type\":\"BoxAnnotation\"}},\"id\":\"7289\",\"type\":\"BoxZoomTool\"},{\"attributes\":{\"bottom_units\":\"screen\",\"fill_alpha\":{\"value\":0.5},\"fill_color\":{\"value\":\"lightgrey\"},\"left_units\":\"screen\",\"level\":\"overlay\",\"line_alpha\":{\"value\":1.0},\"line_color\":{\"value\":\"black\"},\"line_dash\":[4,4],\"line_width\":{\"value\":2},\"render_mode\":\"css\",\"right_units\":\"screen\",\"top_units\":\"screen\"},\"id\":\"7310\",\"type\":\"BoxAnnotation\"},{\"attributes\":{},\"id\":\"7273\",\"type\":\"LinearScale\"},{\"attributes\":{\"callback\":null,\"flipped\":true},\"id\":\"7269\",\"type\":\"DataRange1d\"},{\"attributes\":{\"axis_label\":\"Stock Price\",\"formatter\":{\"id\":\"7307\",\"type\":\"BasicTickFormatter\"},\"ticker\":{\"id\":\"7283\",\"type\":\"BasicTicker\"}},\"id\":\"7282\",\"type\":\"LinearAxis\"},{\"attributes\":{\"line_alpha\":0.1,\"line_color\":\"#1f77b4\",\"x\":{\"field\":\"x\"},\"y\":{\"field\":\"y\"}},\"id\":\"7302\",\"type\":\"Line\"},{\"attributes\":{},\"id\":\"7287\",\"type\":\"PanTool\"},{\"attributes\":{},\"id\":\"7290\",\"type\":\"SaveTool\"},{\"attributes\":{},\"id\":\"7275\",\"type\":\"LinearScale\"},{\"attributes\":{\"ticker\":{\"id\":\"7278\",\"type\":\"BasicTicker\"}},\"id\":\"7281\",\"type\":\"Grid\"},{\"attributes\":{},\"id\":\"7292\",\"type\":\"HelpTool\"},{\"attributes\":{\"data_source\":{\"id\":\"7300\",\"type\":\"ColumnDataSource\"},\"glyph\":{\"id\":\"7301\",\"type\":\"Line\"},\"hover_glyph\":null,\"muted_glyph\":null,\"nonselection_glyph\":{\"id\":\"7302\",\"type\":\"Line\"},\"selection_glyph\":null,\"view\":{\"id\":\"7304\",\"type\":\"CDSView\"}},\"id\":\"7303\",\"type\":\"GlyphRenderer\"},{\"attributes\":{},\"id\":\"7283\",\"type\":\"BasicTicker\"},{\"attributes\":{\"callback\":null},\"id\":\"7271\",\"type\":\"DataRange1d\"},{\"attributes\":{\"items\":[{\"id\":\"7312\",\"type\":\"LegendItem\"}]},\"id\":\"7311\",\"type\":\"Legend\"},{\"attributes\":{},\"id\":\"7291\",\"type\":\"ResetTool\"},{\"attributes\":{},\"id\":\"7551\",\"type\":\"Selection\"},{\"attributes\":{\"callback\":null,\"data\":{\"x\":[250,249,248,247,246,245,244,243,242,241,240,239,238,237,236,235,234,233,232,231,230,229,228,227,226,225,224,223,222,221,220,219,218,217,216,215,214,213,212,211,210,209,208,207,206,205,204,203,202,201,200,199,198,197,196,195,194,193,192,191,190,189,188,187,186,185,184,183,182,181,180,179,178,177,176,175,174,173,172,171,170,169,168,167,166,165,164,163,162,161,160,159,158,157,156,155,154,153,152,151,150,149,148,147,146,145,144,143,142,141,140,139,138,137,136,135,134,133,132,131,130,129,128,127,126,125,124,123,122,121,120,119,118,117,116,115,114,113,112,111,110,109,108,107,106,105,104,103,102,101,100,99,98,97,96,95,94,93,92,91,90,89,88,87,86,85,84,83,82,81,80,79,78,77,76,75,74,73,72,71,70,69,68,67,66,65,64,63,62,61,60,59,58,57,56,55,54,53,52,51,50,49,48,47,46,45,44,43,42,41,40,39,38,37,36,35,34,33,32,31,30,29,28,27,26,25,24,23,22,21,20,19,18,17,16,15,14,13,12,11,10,9,8,7,6,5,4,3,2,1,0],\"y\":{\"__ndarray__\":\"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\",\"dtype\":\"float64\",\"shape\":[251]}},\"selected\":{\"id\":\"7551\",\"type\":\"Selection\"},\"selection_policy\":{\"id\":\"7550\",\"type\":\"UnionRenderers\"}},\"id\":\"7300\",\"type\":\"ColumnDataSource\"},{\"attributes\":{\"text\":\"Simulated Stock Price Path corresponding to 50% PnL percentile\"},\"id\":\"7267\",\"type\":\"Title\"},{\"attributes\":{},\"id\":\"7278\",\"type\":\"BasicTicker\"},{\"attributes\":{\"dimension\":1,\"ticker\":{\"id\":\"7283\",\"type\":\"BasicTicker\"}},\"id\":\"7286\",\"type\":\"Grid\"},{\"attributes\":{},\"id\":\"7288\",\"type\":\"WheelZoomTool\"},{\"attributes\":{},\"id\":\"7550\",\"type\":\"UnionRenderers\"},{\"attributes\":{\"axis_label\":\"Days to Expiry\",\"formatter\":{\"id\":\"7309\",\"type\":\"BasicTickFormatter\"},\"ticker\":{\"id\":\"7278\",\"type\":\"BasicTicker\"}},\"id\":\"7277\",\"type\":\"LinearAxis\"},{\"attributes\":{},\"id\":\"7309\",\"type\":\"BasicTickFormatter\"}],\"root_ids\":[\"stock_price_path\"]},\"title\":\"Bokeh Application\",\"version\":\"1.4.0\"}};\n",
       "  var render_items = [{\"docid\":\"3dfadeb0-06ef-409e-bd84-7bbf1f866828\",\"notebook_comms_target\":\"7553\",\"roots\":{\"stock_price_path\":\"5bc1e11a-1402-4f8d-9123-bcde1edb26af\"}}];\n",
       "  root.Bokeh.embed.embed_items_notebook(docs_json, render_items);\n",
       "\n",
       "  }\n",
       "  if (root.Bokeh !== undefined) {\n",
       "    embed_document(root);\n",
       "  } else {\n",
       "    var attempts = 0;\n",
       "    var timer = setInterval(function(root) {\n",
       "      if (root.Bokeh !== undefined) {\n",
       "        clearInterval(timer);\n",
       "        embed_document(root);\n",
       "      } else {\n",
       "        attempts++;\n",
       "        if (attempts > 100) {\n",
       "          clearInterval(timer);\n",
       "          console.log(\"Bokeh: ERROR: Unable to run BokehJS code because BokehJS library is missing\");\n",
       "        }\n",
       "      }\n",
       "    }, 10, root)\n",
       "  }\n",
       "})(window);"
      ],
      "application/vnd.bokehjs_exec.v0+json": ""
     },
     "metadata": {
      "application/vnd.bokehjs_exec.v0+json": {
       "id": "stock_price_path"
      }
     },
     "output_type": "display_data"
    },
    {
     "data": {
      "text/html": [
       "\n",
       "\n",
       "\n",
       "\n",
       "\n",
       "\n",
       "  <div class=\"bk-root\" id=\"a01fc771-093a-446d-a323-c9979a3c0e63\" data-root-id=\"stock_price_path\"></div>\n"
      ]
     },
     "metadata": {},
     "output_type": "display_data"
    },
    {
     "data": {
      "application/javascript": [
       "(function(root) {\n",
       "  function embed_document(root) {\n",
       "    \n",
       "  var docs_json = {\"1550af05-a274-44a1-9575-88d296cefc5f\":{\"roots\":{\"references\":[{\"attributes\":{\"below\":[{\"id\":\"7613\",\"type\":\"LinearAxis\"}],\"center\":[{\"id\":\"7617\",\"type\":\"Grid\"},{\"id\":\"7622\",\"type\":\"Grid\"},{\"id\":\"7647\",\"type\":\"Legend\"}],\"left\":[{\"id\":\"7618\",\"type\":\"LinearAxis\"}],\"plot_height\":300,\"plot_width\":800,\"renderers\":[{\"id\":\"7639\",\"type\":\"GlyphRenderer\"}],\"title\":{\"id\":\"7603\",\"type\":\"Title\"},\"toolbar\":{\"id\":\"7629\",\"type\":\"Toolbar\"},\"x_range\":{\"id\":\"7605\",\"type\":\"DataRange1d\"},\"x_scale\":{\"id\":\"7609\",\"type\":\"LinearScale\"},\"y_range\":{\"id\":\"7607\",\"type\":\"DataRange1d\"},\"y_scale\":{\"id\":\"7611\",\"type\":\"LinearScale\"}},\"id\":\"stock_price_path\",\"subtype\":\"Figure\",\"type\":\"Plot\"},{\"attributes\":{},\"id\":\"7623\",\"type\":\"PanTool\"},{\"attributes\":{},\"id\":\"7628\",\"type\":\"HelpTool\"},{\"attributes\":{},\"id\":\"7895\",\"type\":\"Selection\"},{\"attributes\":{\"callback\":null},\"id\":\"7607\",\"type\":\"DataRange1d\"},{\"attributes\":{\"dimension\":1,\"ticker\":{\"id\":\"7619\",\"type\":\"BasicTicker\"}},\"id\":\"7622\",\"type\":\"Grid\"},{\"attributes\":{\"label\":{\"value\":\"Ending PnL = 3.84\"},\"renderers\":[{\"id\":\"7639\",\"type\":\"GlyphRenderer\"}]},\"id\":\"7648\",\"type\":\"LegendItem\"},{\"attributes\":{\"items\":[{\"id\":\"7648\",\"type\":\"LegendItem\"}]},\"id\":\"7647\",\"type\":\"Legend\"},{\"attributes\":{\"callback\":null,\"data\":{\"x\":[250,249,248,247,246,245,244,243,242,241,240,239,238,237,236,235,234,233,232,231,230,229,228,227,226,225,224,223,222,221,220,219,218,217,216,215,214,213,212,211,210,209,208,207,206,205,204,203,202,201,200,199,198,197,196,195,194,193,192,191,190,189,188,187,186,185,184,183,182,181,180,179,178,177,176,175,174,173,172,171,170,169,168,167,166,165,164,163,162,161,160,159,158,157,156,155,154,153,152,151,150,149,148,147,146,145,144,143,142,141,140,139,138,137,136,135,134,133,132,131,130,129,128,127,126,125,124,123,122,121,120,119,118,117,116,115,114,113,112,111,110,109,108,107,106,105,104,103,102,101,100,99,98,97,96,95,94,93,92,91,90,89,88,87,86,85,84,83,82,81,80,79,78,77,76,75,74,73,72,71,70,69,68,67,66,65,64,63,62,61,60,59,58,57,56,55,54,53,52,51,50,49,48,47,46,45,44,43,42,41,40,39,38,37,36,35,34,33,32,31,30,29,28,27,26,25,24,23,22,21,20,19,18,17,16,15,14,13,12,11,10,9,8,7,6,5,4,3,2,1,0],\"y\":{\"__ndarray__\":\"AAAAAAAAWUBZ7HhlmHhZQBshr6QC4VlAsCWZcc5YWkA8rn84GdZaQCzEMsLlUFtAAtgqpI7IW0C0S80oFklcQGkoo5EJylxAO0cvx0hOXUAFpH/foc5cQNg1wxjVQlxAy7pnPqm4W0ANzkFC6UBbQPc77WrnuVtALQ4ksN8mXEAcB9yxgqpbQIz7+4iRNltASkruuG+5WkBfzWEt3ilbQJS+R8XFrVpA+FAr7fU1WkAuldxAE7daQMpC/ugWOlpAXvBy9C7DWUDva628NDlaQOQCM45Gu1lATPhjBu8rWkDgxejERKZaQKpJhAavLFpAKKoWyXW3WUDmVZJC1UZZQKS8sweR3lhAD2N4+G9QWUDYuVRsh95YQJs4T6HKU1lAx7ZOw5XhWEArTQBS/kxZQL3zszRbv1lAN/S3suFMWUB5mMyzvsJZQKsVrG5zUVlA/5b/qFfcWECcynn05FZZQGVxHdD841hAUSRe+SlYWUDctvslpMhZQAs88aSuPFpAZKXT5jDGWUCI6KDII1JZQDV93fs+3FhA92g2bNlJWUDlKTlym71ZQOpAz8aVSFlAUQtXmRrSWEBXRR6JYENZQPRLoDUJzVhA4V+qPsVDWUCE+NK9JL5ZQCmcQgbAR1lASxzDmaDVWEA/8/4ch1tYQNC+1inoylhA61I/ABJcWEBgJHG2FfFXQMyZ2o3KX1hAS9Hbpiz2V0CugRzZQ49XQCjpne0P+FdAyFl8y2qIV0AoTAJpAhdXQMN7MH/ifFdA00nNI5IWV0A+XaG1DnlXQOBvnH1l4ldAxVG4PhZ1V0DDM/cKxwdXQPlW+7hXqVZAGvdGwgQVV0DmwGdPIn9XQHEHGTHyEldA0my8iX+vVkCUuJK16hNXQDpwzs3dpFZADW9lBCAJV0C4bQUXIWhXQBc1Boyrz1dAf4Ifb2BEWEBRgXYqYtBXQGBWaBQDPVhAx5yVThXQV0AISYQUHD9YQDQhcWvdq1hAePdMNJ0eWUAxgYEmFqlYQG42fMShHVlABBdSuXGuWECl47f5Jh5ZQOydpIfBkllAD2D7a9AJWkAXCNwbGJFZQIO1SIVPA1pA2no9qZmSWUCqVBSKwxxZQGMnrGk/kFlAteUqtcsjWUCrp+7DXK1YQJdwrbjMGllA6R8A9vyOWUDUKRM8FhhZQIoXkYVmqlhAwnStAL4eWUAbiXI8w5dZQHkmp2V/EVpANVI5EPGcWUDJ0tTKpylZQLxZaqMxs1hA9s/MT2YiWUDLMzqdz7lYQNvfwys9WlhA822pyvDxV0Bws4C2oHhXQBi8kviP3FdAHsxdUb9uV0Bj41Wi99RXQPMNm7pEPlhAPTHmbXzOV0ALLxj1N2BXQIOfdtS5+VZAMn+TuBSNVkDYOvBQee1WQEvLtYLCglZAGeGA7fflVkBzJ+zTR4RWQNgIksH86VZALAqumFtVV0BtaV4QdetWQAKLpogTVldAaHNHeVPxVkDZn9rQlodWQGFekL1W7FZA1RNWr3uFVkBFbjcM8ulWQFP60AkyUVdAud4h1zK+V0ArvUp89U5XQOBV1PYk5FZAjEm2XsV0VkCfxhJcMgpWQFCI83yOpVVAAyN3l2FFVUCnvn/OEutUQAjLzi0dSVVASjI6B1rtVEB6gf+uP1FVQJldWwvdsVVAXJm32GtQVUBvaH3Zqa9VQJ6mM5aUClZAzxyY2pRtVkBeiQvjOc1WQGioqdJzXFZAzSashfbFVkAUY0X77mpWQIkyX4+BAlZAE5ntyodgVkC5aReyoPdVQHuaJQ76l1VAbvYnJO/5VUDcfI6dJFxWQJHcfYKNvVZAwn1yB3QpV0CXq9TFfblWQBBYszklT1ZA5+dbCS27VkCpIpSrL1lWQEBJ1mgS9lVAqvxh1+5YVkCMhgu2GMZWQI1fZUvKXVZAjptJYg66VkC26XNkjR5XQExrAoyshFdAqaTyb1sTV0D9Ap1IxoFXQGtbc7cwFVdAaQB450qtVkAygtcIShdXQO2LOGd2gFdAIUB0V2/mV0AjjIuqIndXQFICwFL2EFdAv4ovG3GoVkC/KjjnzgtXQNVaofnomlZAwxCn1jIEV0AIs+7j2mhXQCzlbJPNzVdA7tV8M8UzWEDdBnPlbKtYQMZiG+A9HllAelIcOkqsWEBRVxdMhUJYQJyAyPn1q1hALtxd+vkiWUAKuIoviJdZQBGcI9XLJFlAwQeAwHGcWUDWOM+JFyNZQOWFxMlZjVlA6ygn0k4UWUCYSTNhwKBYQF7q+25kDllAyR1wc8uDWUBhtqsJAAtZQK0BBJWskFhASnb5hsH4WEBzUPg/CYhYQH/gMK4P9VhAn+Pww52IWEAjePBvQ/pYQHFHys5Fb1lAyfaESkzrWUCluXKL1G9ZQLRIsak0BllA5fMUQk93WUAUV+WQJeZZQHM3MQtoXFpAwsWtzUHQWkDNZz+VplBaQCeV8iJa4FlAgr/K3bp2WUD3+8kO6BFZQIxOvJRufllAJ1+E11MGWUBB8uS3DHpZQDHCuTIB6llAT75yL5RyWUDSaBOQSP9YQIOqjMv8dFlAOLUs4AgIWUDGNkB4QHpZQMX+pn7b8FlATdLgngx5WUDy4+JUM+RZQHF5CnE2cFlA4yiiKasEWUBz/WYYcW5ZQMC25DBx5VlAFStOlLxxWUBMB+GQwgJZQA==\",\"dtype\":\"float64\",\"shape\":[251]}},\"selected\":{\"id\":\"7895\",\"type\":\"Selection\"},\"selection_policy\":{\"id\":\"7894\",\"type\":\"UnionRenderers\"}},\"id\":\"7636\",\"type\":\"ColumnDataSource\"},{\"attributes\":{\"source\":{\"id\":\"7636\",\"type\":\"ColumnDataSource\"}},\"id\":\"7640\",\"type\":\"CDSView\"},{\"attributes\":{},\"id\":\"7627\",\"type\":\"ResetTool\"},{\"attributes\":{},\"id\":\"7611\",\"type\":\"LinearScale\"},{\"attributes\":{},\"id\":\"7624\",\"type\":\"WheelZoomTool\"},{\"attributes\":{\"bottom_units\":\"screen\",\"fill_alpha\":{\"value\":0.5},\"fill_color\":{\"value\":\"lightgrey\"},\"left_units\":\"screen\",\"level\":\"overlay\",\"line_alpha\":{\"value\":1.0},\"line_color\":{\"value\":\"black\"},\"line_dash\":[4,4],\"line_width\":{\"value\":2},\"render_mode\":\"css\",\"right_units\":\"screen\",\"top_units\":\"screen\"},\"id\":\"7646\",\"type\":\"BoxAnnotation\"},{\"attributes\":{\"axis_label\":\"Days to Expiry\",\"formatter\":{\"id\":\"7645\",\"type\":\"BasicTickFormatter\"},\"ticker\":{\"id\":\"7614\",\"type\":\"BasicTicker\"}},\"id\":\"7613\",\"type\":\"LinearAxis\"},{\"attributes\":{},\"id\":\"7643\",\"type\":\"BasicTickFormatter\"},{\"attributes\":{\"active_drag\":\"auto\",\"active_inspect\":\"auto\",\"active_multi\":null,\"active_scroll\":\"auto\",\"active_tap\":\"auto\",\"tools\":[{\"id\":\"7623\",\"type\":\"PanTool\"},{\"id\":\"7624\",\"type\":\"WheelZoomTool\"},{\"id\":\"7625\",\"type\":\"BoxZoomTool\"},{\"id\":\"7626\",\"type\":\"SaveTool\"},{\"id\":\"7627\",\"type\":\"ResetTool\"},{\"id\":\"7628\",\"type\":\"HelpTool\"}]},\"id\":\"7629\",\"type\":\"Toolbar\"},{\"attributes\":{\"text\":\"Simulated Stock Price Path corresponding to 100% PnL percentile\"},\"id\":\"7603\",\"type\":\"Title\"},{\"attributes\":{},\"id\":\"7614\",\"type\":\"BasicTicker\"},{\"attributes\":{},\"id\":\"7645\",\"type\":\"BasicTickFormatter\"},{\"attributes\":{\"callback\":null,\"flipped\":true},\"id\":\"7605\",\"type\":\"DataRange1d\"},{\"attributes\":{},\"id\":\"7619\",\"type\":\"BasicTicker\"},{\"attributes\":{},\"id\":\"7609\",\"type\":\"LinearScale\"},{\"attributes\":{\"overlay\":{\"id\":\"7646\",\"type\":\"BoxAnnotation\"}},\"id\":\"7625\",\"type\":\"BoxZoomTool\"},{\"attributes\":{\"line_alpha\":0.1,\"line_color\":\"#1f77b4\",\"x\":{\"field\":\"x\"},\"y\":{\"field\":\"y\"}},\"id\":\"7638\",\"type\":\"Line\"},{\"attributes\":{},\"id\":\"7626\",\"type\":\"SaveTool\"},{\"attributes\":{},\"id\":\"7894\",\"type\":\"UnionRenderers\"},{\"attributes\":{\"data_source\":{\"id\":\"7636\",\"type\":\"ColumnDataSource\"},\"glyph\":{\"id\":\"7637\",\"type\":\"Line\"},\"hover_glyph\":null,\"muted_glyph\":null,\"nonselection_glyph\":{\"id\":\"7638\",\"type\":\"Line\"},\"selection_glyph\":null,\"view\":{\"id\":\"7640\",\"type\":\"CDSView\"}},\"id\":\"7639\",\"type\":\"GlyphRenderer\"},{\"attributes\":{\"ticker\":{\"id\":\"7614\",\"type\":\"BasicTicker\"}},\"id\":\"7617\",\"type\":\"Grid\"},{\"attributes\":{\"axis_label\":\"Stock Price\",\"formatter\":{\"id\":\"7643\",\"type\":\"BasicTickFormatter\"},\"ticker\":{\"id\":\"7619\",\"type\":\"BasicTicker\"}},\"id\":\"7618\",\"type\":\"LinearAxis\"},{\"attributes\":{\"line_color\":\"red\",\"x\":{\"field\":\"x\"},\"y\":{\"field\":\"y\"}},\"id\":\"7637\",\"type\":\"Line\"}],\"root_ids\":[\"stock_price_path\"]},\"title\":\"Bokeh Application\",\"version\":\"1.4.0\"}};\n",
       "  var render_items = [{\"docid\":\"1550af05-a274-44a1-9575-88d296cefc5f\",\"notebook_comms_target\":\"7897\",\"roots\":{\"stock_price_path\":\"a01fc771-093a-446d-a323-c9979a3c0e63\"}}];\n",
       "  root.Bokeh.embed.embed_items_notebook(docs_json, render_items);\n",
       "\n",
       "  }\n",
       "  if (root.Bokeh !== undefined) {\n",
       "    embed_document(root);\n",
       "  } else {\n",
       "    var attempts = 0;\n",
       "    var timer = setInterval(function(root) {\n",
       "      if (root.Bokeh !== undefined) {\n",
       "        clearInterval(timer);\n",
       "        embed_document(root);\n",
       "      } else {\n",
       "        attempts++;\n",
       "        if (attempts > 100) {\n",
       "          clearInterval(timer);\n",
       "          console.log(\"Bokeh: ERROR: Unable to run BokehJS code because BokehJS library is missing\");\n",
       "        }\n",
       "      }\n",
       "    }, 10, root)\n",
       "  }\n",
       "})(window);"
      ],
      "application/vnd.bokehjs_exec.v0+json": ""
     },
     "metadata": {
      "application/vnd.bokehjs_exec.v0+json": {
       "id": "stock_price_path"
      }
     },
     "output_type": "display_data"
    },
    {
     "data": {
      "text/html": [
       "\n",
       "\n",
       "\n",
       "\n",
       "\n",
       "\n",
       "  <div class=\"bk-root\" id=\"5f38e6e9-8188-40ea-a5f6-bc845cf96675\" data-root-id=\"stock_price_path\"></div>\n"
      ]
     },
     "metadata": {},
     "output_type": "display_data"
    },
    {
     "data": {
      "application/javascript": [
       "(function(root) {\n",
       "  function embed_document(root) {\n",
       "    \n",
       "  var docs_json = {\"26fddf20-ced7-4b7c-82f6-f28b2a9f0509\":{\"roots\":{\"references\":[{\"attributes\":{\"below\":[{\"id\":\"7957\",\"type\":\"LinearAxis\"}],\"center\":[{\"id\":\"7961\",\"type\":\"Grid\"},{\"id\":\"7966\",\"type\":\"Grid\"},{\"id\":\"7991\",\"type\":\"Legend\"}],\"left\":[{\"id\":\"7962\",\"type\":\"LinearAxis\"}],\"plot_height\":300,\"plot_width\":800,\"renderers\":[{\"id\":\"7983\",\"type\":\"GlyphRenderer\"}],\"title\":{\"id\":\"7947\",\"type\":\"Title\"},\"toolbar\":{\"id\":\"7973\",\"type\":\"Toolbar\"},\"x_range\":{\"id\":\"7949\",\"type\":\"DataRange1d\"},\"x_scale\":{\"id\":\"7953\",\"type\":\"LinearScale\"},\"y_range\":{\"id\":\"7951\",\"type\":\"DataRange1d\"},\"y_scale\":{\"id\":\"7955\",\"type\":\"LinearScale\"}},\"id\":\"stock_price_path\",\"subtype\":\"Figure\",\"type\":\"Plot\"},{\"attributes\":{\"callback\":null,\"data\":{\"x\":[250,249,248,247,246,245,244,243,242,241,240,239,238,237,236,235,234,233,232,231,230,229,228,227,226,225,224,223,222,221,220,219,218,217,216,215,214,213,212,211,210,209,208,207,206,205,204,203,202,201,200,199,198,197,196,195,194,193,192,191,190,189,188,187,186,185,184,183,182,181,180,179,178,177,176,175,174,173,172,171,170,169,168,167,166,165,164,163,162,161,160,159,158,157,156,155,154,153,152,151,150,149,148,147,146,145,144,143,142,141,140,139,138,137,136,135,134,133,132,131,130,129,128,127,126,125,124,123,122,121,120,119,118,117,116,115,114,113,112,111,110,109,108,107,106,105,104,103,102,101,100,99,98,97,96,95,94,93,92,91,90,89,88,87,86,85,84,83,82,81,80,79,78,77,76,75,74,73,72,71,70,69,68,67,66,65,64,63,62,61,60,59,58,57,56,55,54,53,52,51,50,49,48,47,46,45,44,43,42,41,40,39,38,37,36,35,34,33,32,31,30,29,28,27,26,25,24,23,22,21,20,19,18,17,16,15,14,13,12,11,10,9,8,7,6,5,4,3,2,1,0],\"y\":{\"__ndarray__\":\"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\",\"dtype\":\"float64\",\"shape\":[251]}},\"selected\":{\"id\":\"8247\",\"type\":\"Selection\"},\"selection_policy\":{\"id\":\"8246\",\"type\":\"UnionRenderers\"}},\"id\":\"7980\",\"type\":\"ColumnDataSource\"},{\"attributes\":{\"axis_label\":\"Stock Price\",\"formatter\":{\"id\":\"7987\",\"type\":\"BasicTickFormatter\"},\"ticker\":{\"id\":\"7963\",\"type\":\"BasicTicker\"}},\"id\":\"7962\",\"type\":\"LinearAxis\"},{\"attributes\":{},\"id\":\"7987\",\"type\":\"BasicTickFormatter\"},{\"attributes\":{},\"id\":\"7967\",\"type\":\"PanTool\"},{\"attributes\":{},\"id\":\"7955\",\"type\":\"LinearScale\"},{\"attributes\":{},\"id\":\"7971\",\"type\":\"ResetTool\"},{\"attributes\":{},\"id\":\"7968\",\"type\":\"WheelZoomTool\"},{\"attributes\":{},\"id\":\"8246\",\"type\":\"UnionRenderers\"},{\"attributes\":{\"active_drag\":\"auto\",\"active_inspect\":\"auto\",\"active_multi\":null,\"active_scroll\":\"auto\",\"active_tap\":\"auto\",\"tools\":[{\"id\":\"7967\",\"type\":\"PanTool\"},{\"id\":\"7968\",\"type\":\"WheelZoomTool\"},{\"id\":\"7969\",\"type\":\"BoxZoomTool\"},{\"id\":\"7970\",\"type\":\"SaveTool\"},{\"id\":\"7971\",\"type\":\"ResetTool\"},{\"id\":\"7972\",\"type\":\"HelpTool\"}]},\"id\":\"7973\",\"type\":\"Toolbar\"},{\"attributes\":{\"line_alpha\":0.1,\"line_color\":\"#1f77b4\",\"x\":{\"field\":\"x\"},\"y\":{\"field\":\"y\"}},\"id\":\"7982\",\"type\":\"Line\"},{\"attributes\":{\"label\":{\"value\":\"Ending PnL = 3.27\"},\"renderers\":[{\"id\":\"7983\",\"type\":\"GlyphRenderer\"}]},\"id\":\"7992\",\"type\":\"LegendItem\"},{\"attributes\":{\"bottom_units\":\"screen\",\"fill_alpha\":{\"value\":0.5},\"fill_color\":{\"value\":\"lightgrey\"},\"left_units\":\"screen\",\"level\":\"overlay\",\"line_alpha\":{\"value\":1.0},\"line_color\":{\"value\":\"black\"},\"line_dash\":[4,4],\"line_width\":{\"value\":2},\"render_mode\":\"css\",\"right_units\":\"screen\",\"top_units\":\"screen\"},\"id\":\"7990\",\"type\":\"BoxAnnotation\"},{\"attributes\":{\"dimension\":1,\"ticker\":{\"id\":\"7963\",\"type\":\"BasicTicker\"}},\"id\":\"7966\",\"type\":\"Grid\"},{\"attributes\":{},\"id\":\"7970\",\"type\":\"SaveTool\"},{\"attributes\":{\"callback\":null,\"flipped\":true},\"id\":\"7949\",\"type\":\"DataRange1d\"},{\"attributes\":{},\"id\":\"7958\",\"type\":\"BasicTicker\"},{\"attributes\":{\"source\":{\"id\":\"7980\",\"type\":\"ColumnDataSource\"}},\"id\":\"7984\",\"type\":\"CDSView\"},{\"attributes\":{\"line_color\":\"red\",\"x\":{\"field\":\"x\"},\"y\":{\"field\":\"y\"}},\"id\":\"7981\",\"type\":\"Line\"},{\"attributes\":{},\"id\":\"8247\",\"type\":\"Selection\"},{\"attributes\":{\"ticker\":{\"id\":\"7958\",\"type\":\"BasicTicker\"}},\"id\":\"7961\",\"type\":\"Grid\"},{\"attributes\":{\"data_source\":{\"id\":\"7980\",\"type\":\"ColumnDataSource\"},\"glyph\":{\"id\":\"7981\",\"type\":\"Line\"},\"hover_glyph\":null,\"muted_glyph\":null,\"nonselection_glyph\":{\"id\":\"7982\",\"type\":\"Line\"},\"selection_glyph\":null,\"view\":{\"id\":\"7984\",\"type\":\"CDSView\"}},\"id\":\"7983\",\"type\":\"GlyphRenderer\"},{\"attributes\":{},\"id\":\"7953\",\"type\":\"LinearScale\"},{\"attributes\":{\"overlay\":{\"id\":\"7990\",\"type\":\"BoxAnnotation\"}},\"id\":\"7969\",\"type\":\"BoxZoomTool\"},{\"attributes\":{\"items\":[{\"id\":\"7992\",\"type\":\"LegendItem\"}]},\"id\":\"7991\",\"type\":\"Legend\"},{\"attributes\":{\"callback\":null},\"id\":\"7951\",\"type\":\"DataRange1d\"},{\"attributes\":{},\"id\":\"7972\",\"type\":\"HelpTool\"},{\"attributes\":{\"text\":\"Simulated Stock Price Path corresponding to 99% PnL percentile\"},\"id\":\"7947\",\"type\":\"Title\"},{\"attributes\":{},\"id\":\"7989\",\"type\":\"BasicTickFormatter\"},{\"attributes\":{\"axis_label\":\"Days to Expiry\",\"formatter\":{\"id\":\"7989\",\"type\":\"BasicTickFormatter\"},\"ticker\":{\"id\":\"7958\",\"type\":\"BasicTicker\"}},\"id\":\"7957\",\"type\":\"LinearAxis\"},{\"attributes\":{},\"id\":\"7963\",\"type\":\"BasicTicker\"}],\"root_ids\":[\"stock_price_path\"]},\"title\":\"Bokeh Application\",\"version\":\"1.4.0\"}};\n",
       "  var render_items = [{\"docid\":\"26fddf20-ced7-4b7c-82f6-f28b2a9f0509\",\"notebook_comms_target\":\"8249\",\"roots\":{\"stock_price_path\":\"5f38e6e9-8188-40ea-a5f6-bc845cf96675\"}}];\n",
       "  root.Bokeh.embed.embed_items_notebook(docs_json, render_items);\n",
       "\n",
       "  }\n",
       "  if (root.Bokeh !== undefined) {\n",
       "    embed_document(root);\n",
       "  } else {\n",
       "    var attempts = 0;\n",
       "    var timer = setInterval(function(root) {\n",
       "      if (root.Bokeh !== undefined) {\n",
       "        clearInterval(timer);\n",
       "        embed_document(root);\n",
       "      } else {\n",
       "        attempts++;\n",
       "        if (attempts > 100) {\n",
       "          clearInterval(timer);\n",
       "          console.log(\"Bokeh: ERROR: Unable to run BokehJS code because BokehJS library is missing\");\n",
       "        }\n",
       "      }\n",
       "    }, 10, root)\n",
       "  }\n",
       "})(window);"
      ],
      "application/vnd.bokehjs_exec.v0+json": ""
     },
     "metadata": {
      "application/vnd.bokehjs_exec.v0+json": {
       "id": "stock_price_path"
      }
     },
     "output_type": "display_data"
    },
    {
     "data": {
      "text/html": [
       "\n",
       "\n",
       "\n",
       "\n",
       "\n",
       "\n",
       "  <div class=\"bk-root\" id=\"2ef8a71e-a213-4743-a811-e0fd1415835b\" data-root-id=\"stock_price_path\"></div>\n"
      ]
     },
     "metadata": {},
     "output_type": "display_data"
    },
    {
     "data": {
      "application/javascript": [
       "(function(root) {\n",
       "  function embed_document(root) {\n",
       "    \n",
       "  var docs_json = {\"9135b4e0-703c-47d1-b2ef-826241f41cf7\":{\"roots\":{\"references\":[{\"attributes\":{\"below\":[{\"id\":\"8309\",\"type\":\"LinearAxis\"}],\"center\":[{\"id\":\"8313\",\"type\":\"Grid\"},{\"id\":\"8318\",\"type\":\"Grid\"},{\"id\":\"8343\",\"type\":\"Legend\"}],\"left\":[{\"id\":\"8314\",\"type\":\"LinearAxis\"}],\"plot_height\":300,\"plot_width\":800,\"renderers\":[{\"id\":\"8335\",\"type\":\"GlyphRenderer\"}],\"title\":{\"id\":\"8299\",\"type\":\"Title\"},\"toolbar\":{\"id\":\"8325\",\"type\":\"Toolbar\"},\"x_range\":{\"id\":\"8301\",\"type\":\"DataRange1d\"},\"x_scale\":{\"id\":\"8305\",\"type\":\"LinearScale\"},\"y_range\":{\"id\":\"8303\",\"type\":\"DataRange1d\"},\"y_scale\":{\"id\":\"8307\",\"type\":\"LinearScale\"}},\"id\":\"stock_price_path\",\"subtype\":\"Figure\",\"type\":\"Plot\"},{\"attributes\":{\"callback\":null,\"flipped\":true},\"id\":\"8301\",\"type\":\"DataRange1d\"},{\"attributes\":{\"ticker\":{\"id\":\"8310\",\"type\":\"BasicTicker\"}},\"id\":\"8313\",\"type\":\"Grid\"},{\"attributes\":{},\"id\":\"8322\",\"type\":\"SaveTool\"},{\"attributes\":{},\"id\":\"8341\",\"type\":\"BasicTickFormatter\"},{\"attributes\":{\"text\":\"Simulated Stock Price Path corresponding to 100% PnL percentile\"},\"id\":\"8299\",\"type\":\"Title\"},{\"attributes\":{},\"id\":\"8315\",\"type\":\"BasicTicker\"},{\"attributes\":{},\"id\":\"8606\",\"type\":\"UnionRenderers\"},{\"attributes\":{\"callback\":null},\"id\":\"8303\",\"type\":\"DataRange1d\"},{\"attributes\":{\"data_source\":{\"id\":\"8332\",\"type\":\"ColumnDataSource\"},\"glyph\":{\"id\":\"8333\",\"type\":\"Line\"},\"hover_glyph\":null,\"muted_glyph\":null,\"nonselection_glyph\":{\"id\":\"8334\",\"type\":\"Line\"},\"selection_glyph\":null,\"view\":{\"id\":\"8336\",\"type\":\"CDSView\"}},\"id\":\"8335\",\"type\":\"GlyphRenderer\"},{\"attributes\":{},\"id\":\"8319\",\"type\":\"PanTool\"},{\"attributes\":{},\"id\":\"8339\",\"type\":\"BasicTickFormatter\"},{\"attributes\":{\"overlay\":{\"id\":\"8342\",\"type\":\"BoxAnnotation\"}},\"id\":\"8321\",\"type\":\"BoxZoomTool\"},{\"attributes\":{\"label\":{\"value\":\"Ending PnL = 3.84\"},\"renderers\":[{\"id\":\"8335\",\"type\":\"GlyphRenderer\"}]},\"id\":\"8344\",\"type\":\"LegendItem\"},{\"attributes\":{\"line_color\":\"red\",\"x\":{\"field\":\"x\"},\"y\":{\"field\":\"y\"}},\"id\":\"8333\",\"type\":\"Line\"},{\"attributes\":{\"items\":[{\"id\":\"8344\",\"type\":\"LegendItem\"}]},\"id\":\"8343\",\"type\":\"Legend\"},{\"attributes\":{\"callback\":null,\"data\":{\"x\":[250,249,248,247,246,245,244,243,242,241,240,239,238,237,236,235,234,233,232,231,230,229,228,227,226,225,224,223,222,221,220,219,218,217,216,215,214,213,212,211,210,209,208,207,206,205,204,203,202,201,200,199,198,197,196,195,194,193,192,191,190,189,188,187,186,185,184,183,182,181,180,179,178,177,176,175,174,173,172,171,170,169,168,167,166,165,164,163,162,161,160,159,158,157,156,155,154,153,152,151,150,149,148,147,146,145,144,143,142,141,140,139,138,137,136,135,134,133,132,131,130,129,128,127,126,125,124,123,122,121,120,119,118,117,116,115,114,113,112,111,110,109,108,107,106,105,104,103,102,101,100,99,98,97,96,95,94,93,92,91,90,89,88,87,86,85,84,83,82,81,80,79,78,77,76,75,74,73,72,71,70,69,68,67,66,65,64,63,62,61,60,59,58,57,56,55,54,53,52,51,50,49,48,47,46,45,44,43,42,41,40,39,38,37,36,35,34,33,32,31,30,29,28,27,26,25,24,23,22,21,20,19,18,17,16,15,14,13,12,11,10,9,8,7,6,5,4,3,2,1,0],\"y\":{\"__ndarray__\":\"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\",\"dtype\":\"float64\",\"shape\":[251]}},\"selected\":{\"id\":\"8607\",\"type\":\"Selection\"},\"selection_policy\":{\"id\":\"8606\",\"type\":\"UnionRenderers\"}},\"id\":\"8332\",\"type\":\"ColumnDataSource\"},{\"attributes\":{\"bottom_units\":\"screen\",\"fill_alpha\":{\"value\":0.5},\"fill_color\":{\"value\":\"lightgrey\"},\"left_units\":\"screen\",\"level\":\"overlay\",\"line_alpha\":{\"value\":1.0},\"line_color\":{\"value\":\"black\"},\"line_dash\":[4,4],\"line_width\":{\"value\":2},\"render_mode\":\"css\",\"right_units\":\"screen\",\"top_units\":\"screen\"},\"id\":\"8342\",\"type\":\"BoxAnnotation\"},{\"attributes\":{},\"id\":\"8323\",\"type\":\"ResetTool\"},{\"attributes\":{},\"id\":\"8305\",\"type\":\"LinearScale\"},{\"attributes\":{},\"id\":\"8607\",\"type\":\"Selection\"},{\"attributes\":{\"dimension\":1,\"ticker\":{\"id\":\"8315\",\"type\":\"BasicTicker\"}},\"id\":\"8318\",\"type\":\"Grid\"},{\"attributes\":{\"line_alpha\":0.1,\"line_color\":\"#1f77b4\",\"x\":{\"field\":\"x\"},\"y\":{\"field\":\"y\"}},\"id\":\"8334\",\"type\":\"Line\"},{\"attributes\":{},\"id\":\"8324\",\"type\":\"HelpTool\"},{\"attributes\":{},\"id\":\"8310\",\"type\":\"BasicTicker\"},{\"attributes\":{\"source\":{\"id\":\"8332\",\"type\":\"ColumnDataSource\"}},\"id\":\"8336\",\"type\":\"CDSView\"},{\"attributes\":{\"axis_label\":\"Stock Price\",\"formatter\":{\"id\":\"8339\",\"type\":\"BasicTickFormatter\"},\"ticker\":{\"id\":\"8315\",\"type\":\"BasicTicker\"}},\"id\":\"8314\",\"type\":\"LinearAxis\"},{\"attributes\":{\"active_drag\":\"auto\",\"active_inspect\":\"auto\",\"active_multi\":null,\"active_scroll\":\"auto\",\"active_tap\":\"auto\",\"tools\":[{\"id\":\"8319\",\"type\":\"PanTool\"},{\"id\":\"8320\",\"type\":\"WheelZoomTool\"},{\"id\":\"8321\",\"type\":\"BoxZoomTool\"},{\"id\":\"8322\",\"type\":\"SaveTool\"},{\"id\":\"8323\",\"type\":\"ResetTool\"},{\"id\":\"8324\",\"type\":\"HelpTool\"}]},\"id\":\"8325\",\"type\":\"Toolbar\"},{\"attributes\":{},\"id\":\"8307\",\"type\":\"LinearScale\"},{\"attributes\":{},\"id\":\"8320\",\"type\":\"WheelZoomTool\"},{\"attributes\":{\"axis_label\":\"Days to Expiry\",\"formatter\":{\"id\":\"8341\",\"type\":\"BasicTickFormatter\"},\"ticker\":{\"id\":\"8310\",\"type\":\"BasicTicker\"}},\"id\":\"8309\",\"type\":\"LinearAxis\"}],\"root_ids\":[\"stock_price_path\"]},\"title\":\"Bokeh Application\",\"version\":\"1.4.0\"}};\n",
       "  var render_items = [{\"docid\":\"9135b4e0-703c-47d1-b2ef-826241f41cf7\",\"notebook_comms_target\":\"8609\",\"roots\":{\"stock_price_path\":\"2ef8a71e-a213-4743-a811-e0fd1415835b\"}}];\n",
       "  root.Bokeh.embed.embed_items_notebook(docs_json, render_items);\n",
       "\n",
       "  }\n",
       "  if (root.Bokeh !== undefined) {\n",
       "    embed_document(root);\n",
       "  } else {\n",
       "    var attempts = 0;\n",
       "    var timer = setInterval(function(root) {\n",
       "      if (root.Bokeh !== undefined) {\n",
       "        clearInterval(timer);\n",
       "        embed_document(root);\n",
       "      } else {\n",
       "        attempts++;\n",
       "        if (attempts > 100) {\n",
       "          clearInterval(timer);\n",
       "          console.log(\"Bokeh: ERROR: Unable to run BokehJS code because BokehJS library is missing\");\n",
       "        }\n",
       "      }\n",
       "    }, 10, root)\n",
       "  }\n",
       "})(window);"
      ],
      "application/vnd.bokehjs_exec.v0+json": ""
     },
     "metadata": {
      "application/vnd.bokehjs_exec.v0+json": {
       "id": "stock_price_path"
      }
     },
     "output_type": "display_data"
    }
   ],
   "source": [
    "def display_simulation():\n",
    "    button = widgets.Button(\n",
    "        description='Run Simulations',\n",
    "        disabled=False,\n",
    "        button_style='success',\n",
    "    )\n",
    "    display(button)\n",
    "    button.on_click(simulation)\n",
    "display_simulation()"
   ]
  }
 ],
 "metadata": {
  "kernelspec": {
   "display_name": "Python 3",
   "language": "python",
   "name": "python3"
  },
  "language_info": {
   "codemirror_mode": {
    "name": "ipython",
    "version": 3
   },
   "file_extension": ".py",
   "mimetype": "text/x-python",
   "name": "python",
   "nbconvert_exporter": "python",
   "pygments_lexer": "ipython3",
   "version": "3.7.5"
  }
 },
 "nbformat": 4,
 "nbformat_minor": 2
}
